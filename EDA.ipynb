{
  "nbformat": 4,
  "nbformat_minor": 0,
  "metadata": {
    "colab": {
      "name": "Copy of EDA_my",
      "provenance": [],
      "collapsed_sections": [
        "rC3JTufXRu-X",
        "Dxd60pbjEAeT",
        "hxmom1LTJVpH"
      ]
    },
    "kernelspec": {
      "name": "python3",
      "display_name": "Python 3"
    },
    "widgets": {
      "application/vnd.jupyter.widget-state+json": {
        "e46c5fe2ed8d47e1a5a550fb9b582d40": {
          "model_module": "@jupyter-widgets/controls",
          "model_name": "HBoxModel",
          "state": {
            "_view_name": "HBoxView",
            "_dom_classes": [],
            "_model_name": "HBoxModel",
            "_view_module": "@jupyter-widgets/controls",
            "_model_module_version": "1.5.0",
            "_view_count": null,
            "_view_module_version": "1.5.0",
            "box_style": "",
            "layout": "IPY_MODEL_60e6e6824c244987a207e6a1c8a1ef7a",
            "_model_module": "@jupyter-widgets/controls",
            "children": [
              "IPY_MODEL_9fd405a25074467cb044b42c3b18d34e",
              "IPY_MODEL_5ad170b7b6784265a5c6f3ed23725b6b"
            ]
          }
        },
        "60e6e6824c244987a207e6a1c8a1ef7a": {
          "model_module": "@jupyter-widgets/base",
          "model_name": "LayoutModel",
          "state": {
            "_view_name": "LayoutView",
            "grid_template_rows": null,
            "right": null,
            "justify_content": null,
            "_view_module": "@jupyter-widgets/base",
            "overflow": null,
            "_model_module_version": "1.2.0",
            "_view_count": null,
            "flex_flow": null,
            "width": null,
            "min_width": null,
            "border": null,
            "align_items": null,
            "bottom": null,
            "_model_module": "@jupyter-widgets/base",
            "top": null,
            "grid_column": null,
            "overflow_y": null,
            "overflow_x": null,
            "grid_auto_flow": null,
            "grid_area": null,
            "grid_template_columns": null,
            "flex": null,
            "_model_name": "LayoutModel",
            "justify_items": null,
            "grid_row": null,
            "max_height": null,
            "align_content": null,
            "visibility": null,
            "align_self": null,
            "height": null,
            "min_height": null,
            "padding": null,
            "grid_auto_rows": null,
            "grid_gap": null,
            "max_width": null,
            "order": null,
            "_view_module_version": "1.2.0",
            "grid_template_areas": null,
            "object_position": null,
            "object_fit": null,
            "grid_auto_columns": null,
            "margin": null,
            "display": null,
            "left": null
          }
        },
        "9fd405a25074467cb044b42c3b18d34e": {
          "model_module": "@jupyter-widgets/controls",
          "model_name": "FloatProgressModel",
          "state": {
            "_view_name": "ProgressView",
            "style": "IPY_MODEL_2659cdb8139f46118c8475c6eb13658c",
            "_dom_classes": [],
            "description": "",
            "_model_name": "FloatProgressModel",
            "bar_style": "info",
            "max": 1,
            "_view_module": "@jupyter-widgets/controls",
            "_model_module_version": "1.5.0",
            "value": 0,
            "_view_count": null,
            "_view_module_version": "1.5.0",
            "orientation": "horizontal",
            "min": 0,
            "description_tooltip": null,
            "_model_module": "@jupyter-widgets/controls",
            "layout": "IPY_MODEL_6fefaba1dd834c509d709f7abaf02125"
          }
        },
        "5ad170b7b6784265a5c6f3ed23725b6b": {
          "model_module": "@jupyter-widgets/controls",
          "model_name": "HTMLModel",
          "state": {
            "_view_name": "HTMLView",
            "style": "IPY_MODEL_013e46c5eabf4a2989ce0526e9cf5c48",
            "_dom_classes": [],
            "description": "",
            "_model_name": "HTMLModel",
            "placeholder": "​",
            "_view_module": "@jupyter-widgets/controls",
            "_model_module_version": "1.5.0",
            "value": " 0/? [00:00&lt;?, ?it/s]",
            "_view_count": null,
            "_view_module_version": "1.5.0",
            "description_tooltip": null,
            "_model_module": "@jupyter-widgets/controls",
            "layout": "IPY_MODEL_7cc9989c9f8540b2899d470529673477"
          }
        },
        "2659cdb8139f46118c8475c6eb13658c": {
          "model_module": "@jupyter-widgets/controls",
          "model_name": "ProgressStyleModel",
          "state": {
            "_view_name": "StyleView",
            "_model_name": "ProgressStyleModel",
            "description_width": "initial",
            "_view_module": "@jupyter-widgets/base",
            "_model_module_version": "1.5.0",
            "_view_count": null,
            "_view_module_version": "1.2.0",
            "bar_color": null,
            "_model_module": "@jupyter-widgets/controls"
          }
        },
        "6fefaba1dd834c509d709f7abaf02125": {
          "model_module": "@jupyter-widgets/base",
          "model_name": "LayoutModel",
          "state": {
            "_view_name": "LayoutView",
            "grid_template_rows": null,
            "right": null,
            "justify_content": null,
            "_view_module": "@jupyter-widgets/base",
            "overflow": null,
            "_model_module_version": "1.2.0",
            "_view_count": null,
            "flex_flow": null,
            "width": null,
            "min_width": null,
            "border": null,
            "align_items": null,
            "bottom": null,
            "_model_module": "@jupyter-widgets/base",
            "top": null,
            "grid_column": null,
            "overflow_y": null,
            "overflow_x": null,
            "grid_auto_flow": null,
            "grid_area": null,
            "grid_template_columns": null,
            "flex": null,
            "_model_name": "LayoutModel",
            "justify_items": null,
            "grid_row": null,
            "max_height": null,
            "align_content": null,
            "visibility": null,
            "align_self": null,
            "height": null,
            "min_height": null,
            "padding": null,
            "grid_auto_rows": null,
            "grid_gap": null,
            "max_width": null,
            "order": null,
            "_view_module_version": "1.2.0",
            "grid_template_areas": null,
            "object_position": null,
            "object_fit": null,
            "grid_auto_columns": null,
            "margin": null,
            "display": null,
            "left": null
          }
        },
        "013e46c5eabf4a2989ce0526e9cf5c48": {
          "model_module": "@jupyter-widgets/controls",
          "model_name": "DescriptionStyleModel",
          "state": {
            "_view_name": "StyleView",
            "_model_name": "DescriptionStyleModel",
            "description_width": "",
            "_view_module": "@jupyter-widgets/base",
            "_model_module_version": "1.5.0",
            "_view_count": null,
            "_view_module_version": "1.2.0",
            "_model_module": "@jupyter-widgets/controls"
          }
        },
        "7cc9989c9f8540b2899d470529673477": {
          "model_module": "@jupyter-widgets/base",
          "model_name": "LayoutModel",
          "state": {
            "_view_name": "LayoutView",
            "grid_template_rows": null,
            "right": null,
            "justify_content": null,
            "_view_module": "@jupyter-widgets/base",
            "overflow": null,
            "_model_module_version": "1.2.0",
            "_view_count": null,
            "flex_flow": null,
            "width": null,
            "min_width": null,
            "border": null,
            "align_items": null,
            "bottom": null,
            "_model_module": "@jupyter-widgets/base",
            "top": null,
            "grid_column": null,
            "overflow_y": null,
            "overflow_x": null,
            "grid_auto_flow": null,
            "grid_area": null,
            "grid_template_columns": null,
            "flex": null,
            "_model_name": "LayoutModel",
            "justify_items": null,
            "grid_row": null,
            "max_height": null,
            "align_content": null,
            "visibility": null,
            "align_self": null,
            "height": null,
            "min_height": null,
            "padding": null,
            "grid_auto_rows": null,
            "grid_gap": null,
            "max_width": null,
            "order": null,
            "_view_module_version": "1.2.0",
            "grid_template_areas": null,
            "object_position": null,
            "object_fit": null,
            "grid_auto_columns": null,
            "margin": null,
            "display": null,
            "left": null
          }
        },
        "9b01297ae1164ff2907bee4d8da29bf2": {
          "model_module": "@jupyter-widgets/controls",
          "model_name": "HBoxModel",
          "state": {
            "_view_name": "HBoxView",
            "_dom_classes": [],
            "_model_name": "HBoxModel",
            "_view_module": "@jupyter-widgets/controls",
            "_model_module_version": "1.5.0",
            "_view_count": null,
            "_view_module_version": "1.5.0",
            "box_style": "",
            "layout": "IPY_MODEL_17681165fc8f49f0819daaa4feb6b154",
            "_model_module": "@jupyter-widgets/controls",
            "children": [
              "IPY_MODEL_10ee98c053e54f22903e4d7d9dd33cf4",
              "IPY_MODEL_41ca1819ead842e6ba2823fec9727575"
            ]
          }
        },
        "17681165fc8f49f0819daaa4feb6b154": {
          "model_module": "@jupyter-widgets/base",
          "model_name": "LayoutModel",
          "state": {
            "_view_name": "LayoutView",
            "grid_template_rows": null,
            "right": null,
            "justify_content": null,
            "_view_module": "@jupyter-widgets/base",
            "overflow": null,
            "_model_module_version": "1.2.0",
            "_view_count": null,
            "flex_flow": null,
            "width": null,
            "min_width": null,
            "border": null,
            "align_items": null,
            "bottom": null,
            "_model_module": "@jupyter-widgets/base",
            "top": null,
            "grid_column": null,
            "overflow_y": null,
            "overflow_x": null,
            "grid_auto_flow": null,
            "grid_area": null,
            "grid_template_columns": null,
            "flex": null,
            "_model_name": "LayoutModel",
            "justify_items": null,
            "grid_row": null,
            "max_height": null,
            "align_content": null,
            "visibility": null,
            "align_self": null,
            "height": null,
            "min_height": null,
            "padding": null,
            "grid_auto_rows": null,
            "grid_gap": null,
            "max_width": null,
            "order": null,
            "_view_module_version": "1.2.0",
            "grid_template_areas": null,
            "object_position": null,
            "object_fit": null,
            "grid_auto_columns": null,
            "margin": null,
            "display": null,
            "left": null
          }
        },
        "10ee98c053e54f22903e4d7d9dd33cf4": {
          "model_module": "@jupyter-widgets/controls",
          "model_name": "FloatProgressModel",
          "state": {
            "_view_name": "ProgressView",
            "style": "IPY_MODEL_57db75b6671d48d9ab098d012242e39c",
            "_dom_classes": [],
            "description": "100%",
            "_model_name": "FloatProgressModel",
            "bar_style": "success",
            "max": 3210941,
            "_view_module": "@jupyter-widgets/controls",
            "_model_module_version": "1.5.0",
            "value": 3210941,
            "_view_count": null,
            "_view_module_version": "1.5.0",
            "orientation": "horizontal",
            "min": 0,
            "description_tooltip": null,
            "_model_module": "@jupyter-widgets/controls",
            "layout": "IPY_MODEL_76eff6b7727c48e784fe97f6e998bd40"
          }
        },
        "41ca1819ead842e6ba2823fec9727575": {
          "model_module": "@jupyter-widgets/controls",
          "model_name": "HTMLModel",
          "state": {
            "_view_name": "HTMLView",
            "style": "IPY_MODEL_c10a93cc232744049f55b544aa606100",
            "_dom_classes": [],
            "description": "",
            "_model_name": "HTMLModel",
            "placeholder": "​",
            "_view_module": "@jupyter-widgets/controls",
            "_model_module_version": "1.5.0",
            "value": " 3210941/3210941 [03:16&lt;00:00, 16307.65it/s]",
            "_view_count": null,
            "_view_module_version": "1.5.0",
            "description_tooltip": null,
            "_model_module": "@jupyter-widgets/controls",
            "layout": "IPY_MODEL_bcefea6391a34514a933b74a5a5ec9c1"
          }
        },
        "57db75b6671d48d9ab098d012242e39c": {
          "model_module": "@jupyter-widgets/controls",
          "model_name": "ProgressStyleModel",
          "state": {
            "_view_name": "StyleView",
            "_model_name": "ProgressStyleModel",
            "description_width": "initial",
            "_view_module": "@jupyter-widgets/base",
            "_model_module_version": "1.5.0",
            "_view_count": null,
            "_view_module_version": "1.2.0",
            "bar_color": null,
            "_model_module": "@jupyter-widgets/controls"
          }
        },
        "76eff6b7727c48e784fe97f6e998bd40": {
          "model_module": "@jupyter-widgets/base",
          "model_name": "LayoutModel",
          "state": {
            "_view_name": "LayoutView",
            "grid_template_rows": null,
            "right": null,
            "justify_content": null,
            "_view_module": "@jupyter-widgets/base",
            "overflow": null,
            "_model_module_version": "1.2.0",
            "_view_count": null,
            "flex_flow": null,
            "width": null,
            "min_width": null,
            "border": null,
            "align_items": null,
            "bottom": null,
            "_model_module": "@jupyter-widgets/base",
            "top": null,
            "grid_column": null,
            "overflow_y": null,
            "overflow_x": null,
            "grid_auto_flow": null,
            "grid_area": null,
            "grid_template_columns": null,
            "flex": null,
            "_model_name": "LayoutModel",
            "justify_items": null,
            "grid_row": null,
            "max_height": null,
            "align_content": null,
            "visibility": null,
            "align_self": null,
            "height": null,
            "min_height": null,
            "padding": null,
            "grid_auto_rows": null,
            "grid_gap": null,
            "max_width": null,
            "order": null,
            "_view_module_version": "1.2.0",
            "grid_template_areas": null,
            "object_position": null,
            "object_fit": null,
            "grid_auto_columns": null,
            "margin": null,
            "display": null,
            "left": null
          }
        },
        "c10a93cc232744049f55b544aa606100": {
          "model_module": "@jupyter-widgets/controls",
          "model_name": "DescriptionStyleModel",
          "state": {
            "_view_name": "StyleView",
            "_model_name": "DescriptionStyleModel",
            "description_width": "",
            "_view_module": "@jupyter-widgets/base",
            "_model_module_version": "1.5.0",
            "_view_count": null,
            "_view_module_version": "1.2.0",
            "_model_module": "@jupyter-widgets/controls"
          }
        },
        "bcefea6391a34514a933b74a5a5ec9c1": {
          "model_module": "@jupyter-widgets/base",
          "model_name": "LayoutModel",
          "state": {
            "_view_name": "LayoutView",
            "grid_template_rows": null,
            "right": null,
            "justify_content": null,
            "_view_module": "@jupyter-widgets/base",
            "overflow": null,
            "_model_module_version": "1.2.0",
            "_view_count": null,
            "flex_flow": null,
            "width": null,
            "min_width": null,
            "border": null,
            "align_items": null,
            "bottom": null,
            "_model_module": "@jupyter-widgets/base",
            "top": null,
            "grid_column": null,
            "overflow_y": null,
            "overflow_x": null,
            "grid_auto_flow": null,
            "grid_area": null,
            "grid_template_columns": null,
            "flex": null,
            "_model_name": "LayoutModel",
            "justify_items": null,
            "grid_row": null,
            "max_height": null,
            "align_content": null,
            "visibility": null,
            "align_self": null,
            "height": null,
            "min_height": null,
            "padding": null,
            "grid_auto_rows": null,
            "grid_gap": null,
            "max_width": null,
            "order": null,
            "_view_module_version": "1.2.0",
            "grid_template_areas": null,
            "object_position": null,
            "object_fit": null,
            "grid_auto_columns": null,
            "margin": null,
            "display": null,
            "left": null
          }
        },
        "31d6a8ce4fcc4f18a5443ce3fa2851af": {
          "model_module": "@jupyter-widgets/controls",
          "model_name": "HBoxModel",
          "state": {
            "_view_name": "HBoxView",
            "_dom_classes": [],
            "_model_name": "HBoxModel",
            "_view_module": "@jupyter-widgets/controls",
            "_model_module_version": "1.5.0",
            "_view_count": null,
            "_view_module_version": "1.5.0",
            "box_style": "",
            "layout": "IPY_MODEL_ba139cdd3d864eeb9f264cdee2718ec3",
            "_model_module": "@jupyter-widgets/controls",
            "children": [
              "IPY_MODEL_cd5b2597888d4265abe6f52ee678f8bc",
              "IPY_MODEL_1348684a1b7b4829905328773539455c"
            ]
          }
        },
        "ba139cdd3d864eeb9f264cdee2718ec3": {
          "model_module": "@jupyter-widgets/base",
          "model_name": "LayoutModel",
          "state": {
            "_view_name": "LayoutView",
            "grid_template_rows": null,
            "right": null,
            "justify_content": null,
            "_view_module": "@jupyter-widgets/base",
            "overflow": null,
            "_model_module_version": "1.2.0",
            "_view_count": null,
            "flex_flow": null,
            "width": null,
            "min_width": null,
            "border": null,
            "align_items": null,
            "bottom": null,
            "_model_module": "@jupyter-widgets/base",
            "top": null,
            "grid_column": null,
            "overflow_y": null,
            "overflow_x": null,
            "grid_auto_flow": null,
            "grid_area": null,
            "grid_template_columns": null,
            "flex": null,
            "_model_name": "LayoutModel",
            "justify_items": null,
            "grid_row": null,
            "max_height": null,
            "align_content": null,
            "visibility": null,
            "align_self": null,
            "height": null,
            "min_height": null,
            "padding": null,
            "grid_auto_rows": null,
            "grid_gap": null,
            "max_width": null,
            "order": null,
            "_view_module_version": "1.2.0",
            "grid_template_areas": null,
            "object_position": null,
            "object_fit": null,
            "grid_auto_columns": null,
            "margin": null,
            "display": null,
            "left": null
          }
        },
        "cd5b2597888d4265abe6f52ee678f8bc": {
          "model_module": "@jupyter-widgets/controls",
          "model_name": "FloatProgressModel",
          "state": {
            "_view_name": "ProgressView",
            "style": "IPY_MODEL_17b3404ba5a74236a0629a7e7669bbb6",
            "_dom_classes": [],
            "description": "100%",
            "_model_name": "FloatProgressModel",
            "bar_style": "success",
            "max": 80924,
            "_view_module": "@jupyter-widgets/controls",
            "_model_module_version": "1.5.0",
            "value": 80924,
            "_view_count": null,
            "_view_module_version": "1.5.0",
            "orientation": "horizontal",
            "min": 0,
            "description_tooltip": null,
            "_model_module": "@jupyter-widgets/controls",
            "layout": "IPY_MODEL_247fc0c0cc3140f1bf9b1774513ff07a"
          }
        },
        "1348684a1b7b4829905328773539455c": {
          "model_module": "@jupyter-widgets/controls",
          "model_name": "HTMLModel",
          "state": {
            "_view_name": "HTMLView",
            "style": "IPY_MODEL_9bf7cc2f70904cacbfd60e1986076701",
            "_dom_classes": [],
            "description": "",
            "_model_name": "HTMLModel",
            "placeholder": "​",
            "_view_module": "@jupyter-widgets/controls",
            "_model_module_version": "1.5.0",
            "value": " 80924/80924 [02:16&lt;00:00, 594.42it/s]",
            "_view_count": null,
            "_view_module_version": "1.5.0",
            "description_tooltip": null,
            "_model_module": "@jupyter-widgets/controls",
            "layout": "IPY_MODEL_453938bdd24d4d28b0eefe8b5dd10304"
          }
        },
        "17b3404ba5a74236a0629a7e7669bbb6": {
          "model_module": "@jupyter-widgets/controls",
          "model_name": "ProgressStyleModel",
          "state": {
            "_view_name": "StyleView",
            "_model_name": "ProgressStyleModel",
            "description_width": "initial",
            "_view_module": "@jupyter-widgets/base",
            "_model_module_version": "1.5.0",
            "_view_count": null,
            "_view_module_version": "1.2.0",
            "bar_color": null,
            "_model_module": "@jupyter-widgets/controls"
          }
        },
        "247fc0c0cc3140f1bf9b1774513ff07a": {
          "model_module": "@jupyter-widgets/base",
          "model_name": "LayoutModel",
          "state": {
            "_view_name": "LayoutView",
            "grid_template_rows": null,
            "right": null,
            "justify_content": null,
            "_view_module": "@jupyter-widgets/base",
            "overflow": null,
            "_model_module_version": "1.2.0",
            "_view_count": null,
            "flex_flow": null,
            "width": null,
            "min_width": null,
            "border": null,
            "align_items": null,
            "bottom": null,
            "_model_module": "@jupyter-widgets/base",
            "top": null,
            "grid_column": null,
            "overflow_y": null,
            "overflow_x": null,
            "grid_auto_flow": null,
            "grid_area": null,
            "grid_template_columns": null,
            "flex": null,
            "_model_name": "LayoutModel",
            "justify_items": null,
            "grid_row": null,
            "max_height": null,
            "align_content": null,
            "visibility": null,
            "align_self": null,
            "height": null,
            "min_height": null,
            "padding": null,
            "grid_auto_rows": null,
            "grid_gap": null,
            "max_width": null,
            "order": null,
            "_view_module_version": "1.2.0",
            "grid_template_areas": null,
            "object_position": null,
            "object_fit": null,
            "grid_auto_columns": null,
            "margin": null,
            "display": null,
            "left": null
          }
        },
        "9bf7cc2f70904cacbfd60e1986076701": {
          "model_module": "@jupyter-widgets/controls",
          "model_name": "DescriptionStyleModel",
          "state": {
            "_view_name": "StyleView",
            "_model_name": "DescriptionStyleModel",
            "description_width": "",
            "_view_module": "@jupyter-widgets/base",
            "_model_module_version": "1.5.0",
            "_view_count": null,
            "_view_module_version": "1.2.0",
            "_model_module": "@jupyter-widgets/controls"
          }
        },
        "453938bdd24d4d28b0eefe8b5dd10304": {
          "model_module": "@jupyter-widgets/base",
          "model_name": "LayoutModel",
          "state": {
            "_view_name": "LayoutView",
            "grid_template_rows": null,
            "right": null,
            "justify_content": null,
            "_view_module": "@jupyter-widgets/base",
            "overflow": null,
            "_model_module_version": "1.2.0",
            "_view_count": null,
            "flex_flow": null,
            "width": null,
            "min_width": null,
            "border": null,
            "align_items": null,
            "bottom": null,
            "_model_module": "@jupyter-widgets/base",
            "top": null,
            "grid_column": null,
            "overflow_y": null,
            "overflow_x": null,
            "grid_auto_flow": null,
            "grid_area": null,
            "grid_template_columns": null,
            "flex": null,
            "_model_name": "LayoutModel",
            "justify_items": null,
            "grid_row": null,
            "max_height": null,
            "align_content": null,
            "visibility": null,
            "align_self": null,
            "height": null,
            "min_height": null,
            "padding": null,
            "grid_auto_rows": null,
            "grid_gap": null,
            "max_width": null,
            "order": null,
            "_view_module_version": "1.2.0",
            "grid_template_areas": null,
            "object_position": null,
            "object_fit": null,
            "grid_auto_columns": null,
            "margin": null,
            "display": null,
            "left": null
          }
        },
        "191b584d6ef04fe5835dea99906dde70": {
          "model_module": "@jupyter-widgets/controls",
          "model_name": "HBoxModel",
          "state": {
            "_view_name": "HBoxView",
            "_dom_classes": [],
            "_model_name": "HBoxModel",
            "_view_module": "@jupyter-widgets/controls",
            "_model_module_version": "1.5.0",
            "_view_count": null,
            "_view_module_version": "1.5.0",
            "box_style": "",
            "layout": "IPY_MODEL_019d9f18056348d3bcde91175f1315aa",
            "_model_module": "@jupyter-widgets/controls",
            "children": [
              "IPY_MODEL_fce7e5a68233418fb4e38a0fc4bd4355",
              "IPY_MODEL_9cc5202ffe3c4413aecc631c553a4ecb"
            ]
          }
        },
        "019d9f18056348d3bcde91175f1315aa": {
          "model_module": "@jupyter-widgets/base",
          "model_name": "LayoutModel",
          "state": {
            "_view_name": "LayoutView",
            "grid_template_rows": null,
            "right": null,
            "justify_content": null,
            "_view_module": "@jupyter-widgets/base",
            "overflow": null,
            "_model_module_version": "1.2.0",
            "_view_count": null,
            "flex_flow": null,
            "width": null,
            "min_width": null,
            "border": null,
            "align_items": null,
            "bottom": null,
            "_model_module": "@jupyter-widgets/base",
            "top": null,
            "grid_column": null,
            "overflow_y": null,
            "overflow_x": null,
            "grid_auto_flow": null,
            "grid_area": null,
            "grid_template_columns": null,
            "flex": null,
            "_model_name": "LayoutModel",
            "justify_items": null,
            "grid_row": null,
            "max_height": null,
            "align_content": null,
            "visibility": null,
            "align_self": null,
            "height": null,
            "min_height": null,
            "padding": null,
            "grid_auto_rows": null,
            "grid_gap": null,
            "max_width": null,
            "order": null,
            "_view_module_version": "1.2.0",
            "grid_template_areas": null,
            "object_position": null,
            "object_fit": null,
            "grid_auto_columns": null,
            "margin": null,
            "display": null,
            "left": null
          }
        },
        "fce7e5a68233418fb4e38a0fc4bd4355": {
          "model_module": "@jupyter-widgets/controls",
          "model_name": "FloatProgressModel",
          "state": {
            "_view_name": "ProgressView",
            "style": "IPY_MODEL_3c46691faceb4756b6cf425deb3942ad",
            "_dom_classes": [],
            "description": "100%",
            "_model_name": "FloatProgressModel",
            "bar_style": "success",
            "max": 2832454,
            "_view_module": "@jupyter-widgets/controls",
            "_model_module_version": "1.5.0",
            "value": 2832454,
            "_view_count": null,
            "_view_module_version": "1.5.0",
            "orientation": "horizontal",
            "min": 0,
            "description_tooltip": null,
            "_model_module": "@jupyter-widgets/controls",
            "layout": "IPY_MODEL_0fdab83a1af747ccb95263b2115fa574"
          }
        },
        "9cc5202ffe3c4413aecc631c553a4ecb": {
          "model_module": "@jupyter-widgets/controls",
          "model_name": "HTMLModel",
          "state": {
            "_view_name": "HTMLView",
            "style": "IPY_MODEL_1f20108803034fef8d5cd6735af498ee",
            "_dom_classes": [],
            "description": "",
            "_model_name": "HTMLModel",
            "placeholder": "​",
            "_view_module": "@jupyter-widgets/controls",
            "_model_module_version": "1.5.0",
            "value": " 2832454/2832454 [03:55&lt;00:00, 12014.47it/s]",
            "_view_count": null,
            "_view_module_version": "1.5.0",
            "description_tooltip": null,
            "_model_module": "@jupyter-widgets/controls",
            "layout": "IPY_MODEL_4a8c423adc5c45d4973d5f4cb608eb38"
          }
        },
        "3c46691faceb4756b6cf425deb3942ad": {
          "model_module": "@jupyter-widgets/controls",
          "model_name": "ProgressStyleModel",
          "state": {
            "_view_name": "StyleView",
            "_model_name": "ProgressStyleModel",
            "description_width": "initial",
            "_view_module": "@jupyter-widgets/base",
            "_model_module_version": "1.5.0",
            "_view_count": null,
            "_view_module_version": "1.2.0",
            "bar_color": null,
            "_model_module": "@jupyter-widgets/controls"
          }
        },
        "0fdab83a1af747ccb95263b2115fa574": {
          "model_module": "@jupyter-widgets/base",
          "model_name": "LayoutModel",
          "state": {
            "_view_name": "LayoutView",
            "grid_template_rows": null,
            "right": null,
            "justify_content": null,
            "_view_module": "@jupyter-widgets/base",
            "overflow": null,
            "_model_module_version": "1.2.0",
            "_view_count": null,
            "flex_flow": null,
            "width": null,
            "min_width": null,
            "border": null,
            "align_items": null,
            "bottom": null,
            "_model_module": "@jupyter-widgets/base",
            "top": null,
            "grid_column": null,
            "overflow_y": null,
            "overflow_x": null,
            "grid_auto_flow": null,
            "grid_area": null,
            "grid_template_columns": null,
            "flex": null,
            "_model_name": "LayoutModel",
            "justify_items": null,
            "grid_row": null,
            "max_height": null,
            "align_content": null,
            "visibility": null,
            "align_self": null,
            "height": null,
            "min_height": null,
            "padding": null,
            "grid_auto_rows": null,
            "grid_gap": null,
            "max_width": null,
            "order": null,
            "_view_module_version": "1.2.0",
            "grid_template_areas": null,
            "object_position": null,
            "object_fit": null,
            "grid_auto_columns": null,
            "margin": null,
            "display": null,
            "left": null
          }
        },
        "1f20108803034fef8d5cd6735af498ee": {
          "model_module": "@jupyter-widgets/controls",
          "model_name": "DescriptionStyleModel",
          "state": {
            "_view_name": "StyleView",
            "_model_name": "DescriptionStyleModel",
            "description_width": "",
            "_view_module": "@jupyter-widgets/base",
            "_model_module_version": "1.5.0",
            "_view_count": null,
            "_view_module_version": "1.2.0",
            "_model_module": "@jupyter-widgets/controls"
          }
        },
        "4a8c423adc5c45d4973d5f4cb608eb38": {
          "model_module": "@jupyter-widgets/base",
          "model_name": "LayoutModel",
          "state": {
            "_view_name": "LayoutView",
            "grid_template_rows": null,
            "right": null,
            "justify_content": null,
            "_view_module": "@jupyter-widgets/base",
            "overflow": null,
            "_model_module_version": "1.2.0",
            "_view_count": null,
            "flex_flow": null,
            "width": null,
            "min_width": null,
            "border": null,
            "align_items": null,
            "bottom": null,
            "_model_module": "@jupyter-widgets/base",
            "top": null,
            "grid_column": null,
            "overflow_y": null,
            "overflow_x": null,
            "grid_auto_flow": null,
            "grid_area": null,
            "grid_template_columns": null,
            "flex": null,
            "_model_name": "LayoutModel",
            "justify_items": null,
            "grid_row": null,
            "max_height": null,
            "align_content": null,
            "visibility": null,
            "align_self": null,
            "height": null,
            "min_height": null,
            "padding": null,
            "grid_auto_rows": null,
            "grid_gap": null,
            "max_width": null,
            "order": null,
            "_view_module_version": "1.2.0",
            "grid_template_areas": null,
            "object_position": null,
            "object_fit": null,
            "grid_auto_columns": null,
            "margin": null,
            "display": null,
            "left": null
          }
        }
      }
    }
  },
  "cells": [
    {
      "cell_type": "markdown",
      "metadata": {
        "id": "rC3JTufXRu-X"
      },
      "source": [
        "## Import"
      ]
    },
    {
      "cell_type": "code",
      "metadata": {
        "id": "dkEehGj5zgww",
        "outputId": "2cb5400a-1f9f-466c-836f-e30b11321537",
        "colab": {
          "base_uri": "https://localhost:8080/",
          "height": 310,
          "referenced_widgets": [
            "e46c5fe2ed8d47e1a5a550fb9b582d40",
            "60e6e6824c244987a207e6a1c8a1ef7a",
            "9fd405a25074467cb044b42c3b18d34e",
            "5ad170b7b6784265a5c6f3ed23725b6b",
            "2659cdb8139f46118c8475c6eb13658c",
            "6fefaba1dd834c509d709f7abaf02125",
            "013e46c5eabf4a2989ce0526e9cf5c48",
            "7cc9989c9f8540b2899d470529673477"
          ]
        }
      },
      "source": [
        "import pandas as pd\n",
        "import numpy as np\n",
        "import matplotlib.pyplot as plt\n",
        "import seaborn as sns\n",
        "from tqdm.auto import tqdm\n",
        "from tqdm import tqdm_notebook\n",
        "tqdm_notebook().pandas()\n",
        "\n",
        "!pip install -U pyarrow\n",
        "\n",
        "from google.colab import drive\n",
        "drive.mount('/content/gdrive')\n",
        "\n",
        "from pylab import rcParams\n",
        "rcParams['figure.figsize'] = 10, 10"
      ],
      "execution_count": null,
      "outputs": [
        {
          "output_type": "stream",
          "text": [
            "/usr/local/lib/python3.6/dist-packages/statsmodels/tools/_testing.py:19: FutureWarning: pandas.util.testing is deprecated. Use the functions in the public API at pandas.testing instead.\n",
            "  import pandas.util.testing as tm\n",
            "/usr/local/lib/python3.6/dist-packages/ipykernel_launcher.py:7: TqdmDeprecationWarning: This function will be removed in tqdm==5.0.0\n",
            "Please use `tqdm.notebook.tqdm` instead of `tqdm.tqdm_notebook`\n",
            "  import sys\n"
          ],
          "name": "stderr"
        },
        {
          "output_type": "display_data",
          "data": {
            "application/vnd.jupyter.widget-view+json": {
              "model_id": "e46c5fe2ed8d47e1a5a550fb9b582d40",
              "version_minor": 0,
              "version_major": 2
            },
            "text/plain": [
              "HBox(children=(FloatProgress(value=1.0, bar_style='info', max=1.0), HTML(value='')))"
            ]
          },
          "metadata": {
            "tags": []
          }
        },
        {
          "output_type": "stream",
          "text": [
            "Collecting pyarrow\n",
            "\u001b[?25l  Downloading https://files.pythonhosted.org/packages/f3/99/0a605f016121ca314d1469dc9069e4978395bc46fda40f73099d90ad3ba4/pyarrow-1.0.1-cp36-cp36m-manylinux2014_x86_64.whl (17.3MB)\n",
            "\u001b[K     |████████████████████████████████| 17.3MB 228kB/s \n",
            "\u001b[?25hRequirement already satisfied, skipping upgrade: numpy>=1.14 in /usr/local/lib/python3.6/dist-packages (from pyarrow) (1.18.5)\n",
            "Installing collected packages: pyarrow\n",
            "  Found existing installation: pyarrow 0.14.1\n",
            "    Uninstalling pyarrow-0.14.1:\n",
            "      Successfully uninstalled pyarrow-0.14.1\n",
            "Successfully installed pyarrow-1.0.1\n",
            "Mounted at /content/gdrive\n"
          ],
          "name": "stdout"
        }
      ]
    },
    {
      "cell_type": "code",
      "metadata": {
        "id": "-OmzC8-enYvQ",
        "outputId": "93eb9829-b317-426a-998a-ebb001c8fa3d",
        "colab": {
          "base_uri": "https://localhost:8080/",
          "height": 104
        }
      },
      "source": [
        "!unzip -P Skoltech gdrive/My\\ Drive/Skoltech\\ Courses/HackLab/Lenta/hack_data.zip"
      ],
      "execution_count": null,
      "outputs": [
        {
          "output_type": "stream",
          "text": [
            "Archive:  gdrive/My Drive/Skoltech Courses/HackLab/Lenta/hack_data.zip\n",
            "  inflating: clients.csv             \n",
            "  inflating: materials.csv           \n",
            "  inflating: plants.csv              \n",
            "  inflating: transactions.parquet    \n"
          ],
          "name": "stdout"
        }
      ]
    },
    {
      "cell_type": "code",
      "metadata": {
        "id": "RGOPBsQZpV5T"
      },
      "source": [
        "clients = pd.read_csv('clients.csv')\n",
        "materials = pd.read_csv('materials.csv')\n",
        "plants = pd.read_csv('plants.csv')\n",
        "trans = pd.read_parquet('transactions.parquet', engine='pyarrow', use_threads=True)"
      ],
      "execution_count": null,
      "outputs": []
    },
    {
      "cell_type": "markdown",
      "metadata": {
        "id": "EGhcEP5X8NQt"
      },
      "source": [
        "## Transactions"
      ]
    },
    {
      "cell_type": "code",
      "metadata": {
        "id": "PtQdAtGEx1a-",
        "outputId": "2de87831-4ce3-4575-a86a-ae555b39b419",
        "colab": {
          "base_uri": "https://localhost:8080/",
          "height": 34
        }
      },
      "source": [
        "trans.shape"
      ],
      "execution_count": null,
      "outputs": [
        {
          "output_type": "execute_result",
          "data": {
            "text/plain": [
              "(32109414, 9)"
            ]
          },
          "metadata": {
            "tags": []
          },
          "execution_count": 8
        }
      ]
    },
    {
      "cell_type": "markdown",
      "metadata": {
        "id": "Gof3I9DYFs7Q"
      },
      "source": [
        "Интервал данных 2016-10-04  -  2017-10-04"
      ]
    },
    {
      "cell_type": "code",
      "metadata": {
        "id": "3Wh4EBio4ZJq",
        "outputId": "bef17ca6-5e7c-4ca4-e0f2-181626e0b2bf",
        "colab": {
          "base_uri": "https://localhost:8080/",
          "height": 424
        }
      },
      "source": [
        "dates = pd.DataFrame(data = {'chq_date': trans.chq_date.unique()})\n",
        "dates"
      ],
      "execution_count": null,
      "outputs": [
        {
          "output_type": "execute_result",
          "data": {
            "text/html": [
              "<div>\n",
              "<style scoped>\n",
              "    .dataframe tbody tr th:only-of-type {\n",
              "        vertical-align: middle;\n",
              "    }\n",
              "\n",
              "    .dataframe tbody tr th {\n",
              "        vertical-align: top;\n",
              "    }\n",
              "\n",
              "    .dataframe thead th {\n",
              "        text-align: right;\n",
              "    }\n",
              "</style>\n",
              "<table border=\"1\" class=\"dataframe\">\n",
              "  <thead>\n",
              "    <tr style=\"text-align: right;\">\n",
              "      <th></th>\n",
              "      <th>chq_date</th>\n",
              "    </tr>\n",
              "  </thead>\n",
              "  <tbody>\n",
              "    <tr>\n",
              "      <th>0</th>\n",
              "      <td>2016-11-01</td>\n",
              "    </tr>\n",
              "    <tr>\n",
              "      <th>1</th>\n",
              "      <td>2016-11-02</td>\n",
              "    </tr>\n",
              "    <tr>\n",
              "      <th>2</th>\n",
              "      <td>2016-11-03</td>\n",
              "    </tr>\n",
              "    <tr>\n",
              "      <th>3</th>\n",
              "      <td>2016-11-04</td>\n",
              "    </tr>\n",
              "    <tr>\n",
              "      <th>4</th>\n",
              "      <td>2016-11-13</td>\n",
              "    </tr>\n",
              "    <tr>\n",
              "      <th>...</th>\n",
              "      <td>...</td>\n",
              "    </tr>\n",
              "    <tr>\n",
              "      <th>361</th>\n",
              "      <td>2016-10-27</td>\n",
              "    </tr>\n",
              "    <tr>\n",
              "      <th>362</th>\n",
              "      <td>2016-10-22</td>\n",
              "    </tr>\n",
              "    <tr>\n",
              "      <th>363</th>\n",
              "      <td>2016-10-29</td>\n",
              "    </tr>\n",
              "    <tr>\n",
              "      <th>364</th>\n",
              "      <td>2016-10-23</td>\n",
              "    </tr>\n",
              "    <tr>\n",
              "      <th>365</th>\n",
              "      <td>2016-10-31</td>\n",
              "    </tr>\n",
              "  </tbody>\n",
              "</table>\n",
              "<p>366 rows × 1 columns</p>\n",
              "</div>"
            ],
            "text/plain": [
              "      chq_date\n",
              "0   2016-11-01\n",
              "1   2016-11-02\n",
              "2   2016-11-03\n",
              "3   2016-11-04\n",
              "4   2016-11-13\n",
              "..         ...\n",
              "361 2016-10-27\n",
              "362 2016-10-22\n",
              "363 2016-10-29\n",
              "364 2016-10-23\n",
              "365 2016-10-31\n",
              "\n",
              "[366 rows x 1 columns]"
            ]
          },
          "metadata": {
            "tags": []
          },
          "execution_count": 9
        }
      ]
    },
    {
      "cell_type": "code",
      "metadata": {
        "id": "xdUj2wpKyq9S",
        "outputId": "f7ed602a-cc77-4aa6-c841-e868559806ae",
        "colab": {
          "base_uri": "https://localhost:8080/",
          "height": 1000
        }
      },
      "source": [
        "trans.head(30)"
      ],
      "execution_count": null,
      "outputs": [
        {
          "output_type": "execute_result",
          "data": {
            "text/html": [
              "<div>\n",
              "<style scoped>\n",
              "    .dataframe tbody tr th:only-of-type {\n",
              "        vertical-align: middle;\n",
              "    }\n",
              "\n",
              "    .dataframe tbody tr th {\n",
              "        vertical-align: top;\n",
              "    }\n",
              "\n",
              "    .dataframe thead th {\n",
              "        text-align: right;\n",
              "    }\n",
              "</style>\n",
              "<table border=\"1\" class=\"dataframe\">\n",
              "  <thead>\n",
              "    <tr style=\"text-align: right;\">\n",
              "      <th></th>\n",
              "      <th>chq_id</th>\n",
              "      <th>plant</th>\n",
              "      <th>chq_date</th>\n",
              "      <th>chq_position</th>\n",
              "      <th>client_id</th>\n",
              "      <th>material</th>\n",
              "      <th>sales_count</th>\n",
              "      <th>sales_sum</th>\n",
              "      <th>is_promo</th>\n",
              "    </tr>\n",
              "  </thead>\n",
              "  <tbody>\n",
              "    <tr>\n",
              "      <th>0</th>\n",
              "      <td>ce5b3d1c531348c5d0d8e859b6d0cf91</td>\n",
              "      <td>7cd86ecb09aa48c6e620b340f6a74592</td>\n",
              "      <td>2016-11-01</td>\n",
              "      <td>004</td>\n",
              "      <td>90fca68123e692a005a4edeadd94b2f2</td>\n",
              "      <td>232cfe8b28970434f685b737737b26d4</td>\n",
              "      <td>2.000</td>\n",
              "      <td>146.98</td>\n",
              "      <td>0</td>\n",
              "    </tr>\n",
              "    <tr>\n",
              "      <th>1</th>\n",
              "      <td>ce5b3d1c531348c5d0d8e859b6d0cf91</td>\n",
              "      <td>7cd86ecb09aa48c6e620b340f6a74592</td>\n",
              "      <td>2016-11-01</td>\n",
              "      <td>003</td>\n",
              "      <td>90fca68123e692a005a4edeadd94b2f2</td>\n",
              "      <td>12ec64451b8e426db16f3f05ea770901</td>\n",
              "      <td>1.000</td>\n",
              "      <td>249.99</td>\n",
              "      <td>1</td>\n",
              "    </tr>\n",
              "    <tr>\n",
              "      <th>2</th>\n",
              "      <td>ce5b3d1c531348c5d0d8e859b6d0cf91</td>\n",
              "      <td>7cd86ecb09aa48c6e620b340f6a74592</td>\n",
              "      <td>2016-11-01</td>\n",
              "      <td>012</td>\n",
              "      <td>90fca68123e692a005a4edeadd94b2f2</td>\n",
              "      <td>1212ff8ecf53aebef093ca8ae216db68</td>\n",
              "      <td>1.000</td>\n",
              "      <td>47.99</td>\n",
              "      <td>1</td>\n",
              "    </tr>\n",
              "    <tr>\n",
              "      <th>3</th>\n",
              "      <td>ce5b3d1c531348c5d0d8e859b6d0cf91</td>\n",
              "      <td>7cd86ecb09aa48c6e620b340f6a74592</td>\n",
              "      <td>2016-11-01</td>\n",
              "      <td>013</td>\n",
              "      <td>90fca68123e692a005a4edeadd94b2f2</td>\n",
              "      <td>1212ff8ecf53aebef093ca8ae216db68</td>\n",
              "      <td>1.000</td>\n",
              "      <td>47.99</td>\n",
              "      <td>1</td>\n",
              "    </tr>\n",
              "    <tr>\n",
              "      <th>4</th>\n",
              "      <td>ce5b3d1c531348c5d0d8e859b6d0cf91</td>\n",
              "      <td>7cd86ecb09aa48c6e620b340f6a74592</td>\n",
              "      <td>2016-11-01</td>\n",
              "      <td>011</td>\n",
              "      <td>90fca68123e692a005a4edeadd94b2f2</td>\n",
              "      <td>571c6d3b559db8445e05265649eb30ab</td>\n",
              "      <td>2.000</td>\n",
              "      <td>53.98</td>\n",
              "      <td>1</td>\n",
              "    </tr>\n",
              "    <tr>\n",
              "      <th>5</th>\n",
              "      <td>ce5b3d1c531348c5d0d8e859b6d0cf91</td>\n",
              "      <td>7cd86ecb09aa48c6e620b340f6a74592</td>\n",
              "      <td>2016-11-01</td>\n",
              "      <td>001</td>\n",
              "      <td>90fca68123e692a005a4edeadd94b2f2</td>\n",
              "      <td>76608b1b1d38384fcac3e2b14e6ec0c9</td>\n",
              "      <td>2.000</td>\n",
              "      <td>64.78</td>\n",
              "      <td>1</td>\n",
              "    </tr>\n",
              "    <tr>\n",
              "      <th>6</th>\n",
              "      <td>ce5b3d1c531348c5d0d8e859b6d0cf91</td>\n",
              "      <td>7cd86ecb09aa48c6e620b340f6a74592</td>\n",
              "      <td>2016-11-01</td>\n",
              "      <td>006</td>\n",
              "      <td>90fca68123e692a005a4edeadd94b2f2</td>\n",
              "      <td>86069eddeab2b94b00eca5801628c879</td>\n",
              "      <td>0.728</td>\n",
              "      <td>65.51</td>\n",
              "      <td>0</td>\n",
              "    </tr>\n",
              "    <tr>\n",
              "      <th>7</th>\n",
              "      <td>ce5b3d1c531348c5d0d8e859b6d0cf91</td>\n",
              "      <td>7cd86ecb09aa48c6e620b340f6a74592</td>\n",
              "      <td>2016-11-01</td>\n",
              "      <td>010</td>\n",
              "      <td>90fca68123e692a005a4edeadd94b2f2</td>\n",
              "      <td>cd8645ab842a98332560a07d137aed24</td>\n",
              "      <td>1.000</td>\n",
              "      <td>36.99</td>\n",
              "      <td>1</td>\n",
              "    </tr>\n",
              "    <tr>\n",
              "      <th>8</th>\n",
              "      <td>ce5b3d1c531348c5d0d8e859b6d0cf91</td>\n",
              "      <td>7cd86ecb09aa48c6e620b340f6a74592</td>\n",
              "      <td>2016-11-01</td>\n",
              "      <td>007</td>\n",
              "      <td>90fca68123e692a005a4edeadd94b2f2</td>\n",
              "      <td>f6f07df28266b03cb7822b62abf0a385</td>\n",
              "      <td>2.000</td>\n",
              "      <td>72.99</td>\n",
              "      <td>1</td>\n",
              "    </tr>\n",
              "    <tr>\n",
              "      <th>9</th>\n",
              "      <td>ce5b3d1c531348c5d0d8e859b6d0cf91</td>\n",
              "      <td>7cd86ecb09aa48c6e620b340f6a74592</td>\n",
              "      <td>2016-11-01</td>\n",
              "      <td>005</td>\n",
              "      <td>90fca68123e692a005a4edeadd94b2f2</td>\n",
              "      <td>b726b2ec8d0643d38e29d96733153dd4</td>\n",
              "      <td>2.000</td>\n",
              "      <td>51.98</td>\n",
              "      <td>1</td>\n",
              "    </tr>\n",
              "    <tr>\n",
              "      <th>10</th>\n",
              "      <td>ce5b3d1c531348c5d0d8e859b6d0cf91</td>\n",
              "      <td>7cd86ecb09aa48c6e620b340f6a74592</td>\n",
              "      <td>2016-11-01</td>\n",
              "      <td>008</td>\n",
              "      <td>90fca68123e692a005a4edeadd94b2f2</td>\n",
              "      <td>33fa1fd7d0c11ccde404416d63e9b50a</td>\n",
              "      <td>1.000</td>\n",
              "      <td>549.94</td>\n",
              "      <td>1</td>\n",
              "    </tr>\n",
              "    <tr>\n",
              "      <th>11</th>\n",
              "      <td>ce5b3d1c531348c5d0d8e859b6d0cf91</td>\n",
              "      <td>7cd86ecb09aa48c6e620b340f6a74592</td>\n",
              "      <td>2016-11-01</td>\n",
              "      <td>002</td>\n",
              "      <td>90fca68123e692a005a4edeadd94b2f2</td>\n",
              "      <td>ada84ea081d5d3c919dc12a5bdde904e</td>\n",
              "      <td>1.000</td>\n",
              "      <td>179.99</td>\n",
              "      <td>1</td>\n",
              "    </tr>\n",
              "    <tr>\n",
              "      <th>12</th>\n",
              "      <td>ce5b3d1c531348c5d0d8e859b6d0cf91</td>\n",
              "      <td>7cd86ecb09aa48c6e620b340f6a74592</td>\n",
              "      <td>2016-11-01</td>\n",
              "      <td>009</td>\n",
              "      <td>90fca68123e692a005a4edeadd94b2f2</td>\n",
              "      <td>e09bae8a6aa3492347bef47d9913344a</td>\n",
              "      <td>1.000</td>\n",
              "      <td>64.89</td>\n",
              "      <td>0</td>\n",
              "    </tr>\n",
              "    <tr>\n",
              "      <th>13</th>\n",
              "      <td>3be794c2ba7c330197026099a3bf73b1</td>\n",
              "      <td>7cd86ecb09aa48c6e620b340f6a74592</td>\n",
              "      <td>2016-11-01</td>\n",
              "      <td>001</td>\n",
              "      <td>26f3232ab25e58588cd2b4002b6f7836</td>\n",
              "      <td>237ddb493d39894c26f734f184b714e4</td>\n",
              "      <td>2.000</td>\n",
              "      <td>163.00</td>\n",
              "      <td>0</td>\n",
              "    </tr>\n",
              "    <tr>\n",
              "      <th>14</th>\n",
              "      <td>37d1f3b79bae03f8d3c279436139251e</td>\n",
              "      <td>7cd86ecb09aa48c6e620b340f6a74592</td>\n",
              "      <td>2016-11-01</td>\n",
              "      <td>005</td>\n",
              "      <td>eb09b11a1efb6e12f122e78bde33e5c3</td>\n",
              "      <td>3b812d722d5399897dfae64b31a7e1d8</td>\n",
              "      <td>1.000</td>\n",
              "      <td>99.99</td>\n",
              "      <td>1</td>\n",
              "    </tr>\n",
              "    <tr>\n",
              "      <th>15</th>\n",
              "      <td>37d1f3b79bae03f8d3c279436139251e</td>\n",
              "      <td>7cd86ecb09aa48c6e620b340f6a74592</td>\n",
              "      <td>2016-11-01</td>\n",
              "      <td>004</td>\n",
              "      <td>eb09b11a1efb6e12f122e78bde33e5c3</td>\n",
              "      <td>232cfe8b28970434f685b737737b26d4</td>\n",
              "      <td>1.000</td>\n",
              "      <td>73.49</td>\n",
              "      <td>0</td>\n",
              "    </tr>\n",
              "    <tr>\n",
              "      <th>16</th>\n",
              "      <td>37d1f3b79bae03f8d3c279436139251e</td>\n",
              "      <td>7cd86ecb09aa48c6e620b340f6a74592</td>\n",
              "      <td>2016-11-01</td>\n",
              "      <td>001</td>\n",
              "      <td>eb09b11a1efb6e12f122e78bde33e5c3</td>\n",
              "      <td>b75147feae4cf8ec07fb5f2cef855def</td>\n",
              "      <td>1.000</td>\n",
              "      <td>3.49</td>\n",
              "      <td>0</td>\n",
              "    </tr>\n",
              "    <tr>\n",
              "      <th>17</th>\n",
              "      <td>37d1f3b79bae03f8d3c279436139251e</td>\n",
              "      <td>7cd86ecb09aa48c6e620b340f6a74592</td>\n",
              "      <td>2016-11-01</td>\n",
              "      <td>006</td>\n",
              "      <td>eb09b11a1efb6e12f122e78bde33e5c3</td>\n",
              "      <td>8276649b353aa9994c4f383564d61ab4</td>\n",
              "      <td>1.000</td>\n",
              "      <td>97.19</td>\n",
              "      <td>0</td>\n",
              "    </tr>\n",
              "    <tr>\n",
              "      <th>18</th>\n",
              "      <td>37d1f3b79bae03f8d3c279436139251e</td>\n",
              "      <td>7cd86ecb09aa48c6e620b340f6a74592</td>\n",
              "      <td>2016-11-01</td>\n",
              "      <td>002</td>\n",
              "      <td>eb09b11a1efb6e12f122e78bde33e5c3</td>\n",
              "      <td>f6d8956d2f8419a360449212cc0a9213</td>\n",
              "      <td>1.000</td>\n",
              "      <td>124.99</td>\n",
              "      <td>0</td>\n",
              "    </tr>\n",
              "    <tr>\n",
              "      <th>19</th>\n",
              "      <td>37d1f3b79bae03f8d3c279436139251e</td>\n",
              "      <td>7cd86ecb09aa48c6e620b340f6a74592</td>\n",
              "      <td>2016-11-01</td>\n",
              "      <td>003</td>\n",
              "      <td>eb09b11a1efb6e12f122e78bde33e5c3</td>\n",
              "      <td>cb417f3cdb4d49d3f2104dcc454d8575</td>\n",
              "      <td>1.000</td>\n",
              "      <td>134.86</td>\n",
              "      <td>0</td>\n",
              "    </tr>\n",
              "    <tr>\n",
              "      <th>20</th>\n",
              "      <td>37d1f3b79bae03f8d3c279436139251e</td>\n",
              "      <td>7cd86ecb09aa48c6e620b340f6a74592</td>\n",
              "      <td>2016-11-01</td>\n",
              "      <td>007</td>\n",
              "      <td>eb09b11a1efb6e12f122e78bde33e5c3</td>\n",
              "      <td>5633212556428cd4d47c2c9aace28381</td>\n",
              "      <td>1.000</td>\n",
              "      <td>89.99</td>\n",
              "      <td>1</td>\n",
              "    </tr>\n",
              "    <tr>\n",
              "      <th>21</th>\n",
              "      <td>9645891030b4a3d0dee526c47dcbcd13</td>\n",
              "      <td>7cd86ecb09aa48c6e620b340f6a74592</td>\n",
              "      <td>2016-11-01</td>\n",
              "      <td>022</td>\n",
              "      <td>4d68fdddb5deaa496ce485bd51929ab1</td>\n",
              "      <td>47bfa11c5a25b4dfefbd5f19bf9cf431</td>\n",
              "      <td>0.230</td>\n",
              "      <td>230.00</td>\n",
              "      <td>0</td>\n",
              "    </tr>\n",
              "    <tr>\n",
              "      <th>22</th>\n",
              "      <td>9645891030b4a3d0dee526c47dcbcd13</td>\n",
              "      <td>7cd86ecb09aa48c6e620b340f6a74592</td>\n",
              "      <td>2016-11-01</td>\n",
              "      <td>007</td>\n",
              "      <td>4d68fdddb5deaa496ce485bd51929ab1</td>\n",
              "      <td>9136b34daa7202b248cfefa498822c34</td>\n",
              "      <td>1.000</td>\n",
              "      <td>65.39</td>\n",
              "      <td>0</td>\n",
              "    </tr>\n",
              "    <tr>\n",
              "      <th>23</th>\n",
              "      <td>9645891030b4a3d0dee526c47dcbcd13</td>\n",
              "      <td>7cd86ecb09aa48c6e620b340f6a74592</td>\n",
              "      <td>2016-11-01</td>\n",
              "      <td>009</td>\n",
              "      <td>4d68fdddb5deaa496ce485bd51929ab1</td>\n",
              "      <td>281ff47087464d3f747d7acd71f9dcd6</td>\n",
              "      <td>1.000</td>\n",
              "      <td>32.99</td>\n",
              "      <td>1</td>\n",
              "    </tr>\n",
              "    <tr>\n",
              "      <th>24</th>\n",
              "      <td>9645891030b4a3d0dee526c47dcbcd13</td>\n",
              "      <td>7cd86ecb09aa48c6e620b340f6a74592</td>\n",
              "      <td>2016-11-01</td>\n",
              "      <td>025</td>\n",
              "      <td>4d68fdddb5deaa496ce485bd51929ab1</td>\n",
              "      <td>f0f91127c1b5f438f2f6ecb6d2f40772</td>\n",
              "      <td>1.000</td>\n",
              "      <td>199.99</td>\n",
              "      <td>1</td>\n",
              "    </tr>\n",
              "    <tr>\n",
              "      <th>25</th>\n",
              "      <td>9645891030b4a3d0dee526c47dcbcd13</td>\n",
              "      <td>7cd86ecb09aa48c6e620b340f6a74592</td>\n",
              "      <td>2016-11-01</td>\n",
              "      <td>023</td>\n",
              "      <td>4d68fdddb5deaa496ce485bd51929ab1</td>\n",
              "      <td>e98d65bacff40d86f83a881c1d1d403e</td>\n",
              "      <td>1.000</td>\n",
              "      <td>26.49</td>\n",
              "      <td>0</td>\n",
              "    </tr>\n",
              "    <tr>\n",
              "      <th>26</th>\n",
              "      <td>9645891030b4a3d0dee526c47dcbcd13</td>\n",
              "      <td>7cd86ecb09aa48c6e620b340f6a74592</td>\n",
              "      <td>2016-11-01</td>\n",
              "      <td>049</td>\n",
              "      <td>4d68fdddb5deaa496ce485bd51929ab1</td>\n",
              "      <td>7cb069614d9ba8c94a1b4cd5aaf13601</td>\n",
              "      <td>1.000</td>\n",
              "      <td>228.99</td>\n",
              "      <td>1</td>\n",
              "    </tr>\n",
              "    <tr>\n",
              "      <th>27</th>\n",
              "      <td>9645891030b4a3d0dee526c47dcbcd13</td>\n",
              "      <td>7cd86ecb09aa48c6e620b340f6a74592</td>\n",
              "      <td>2016-11-01</td>\n",
              "      <td>030</td>\n",
              "      <td>4d68fdddb5deaa496ce485bd51929ab1</td>\n",
              "      <td>41179cd95c6a256294feed23fbb2d8e3</td>\n",
              "      <td>0.560</td>\n",
              "      <td>44.79</td>\n",
              "      <td>1</td>\n",
              "    </tr>\n",
              "    <tr>\n",
              "      <th>28</th>\n",
              "      <td>9645891030b4a3d0dee526c47dcbcd13</td>\n",
              "      <td>7cd86ecb09aa48c6e620b340f6a74592</td>\n",
              "      <td>2016-11-01</td>\n",
              "      <td>046</td>\n",
              "      <td>4d68fdddb5deaa496ce485bd51929ab1</td>\n",
              "      <td>3880b0d655d8a275124f606a9d7327f3</td>\n",
              "      <td>1.000</td>\n",
              "      <td>29.99</td>\n",
              "      <td>1</td>\n",
              "    </tr>\n",
              "    <tr>\n",
              "      <th>29</th>\n",
              "      <td>9645891030b4a3d0dee526c47dcbcd13</td>\n",
              "      <td>7cd86ecb09aa48c6e620b340f6a74592</td>\n",
              "      <td>2016-11-01</td>\n",
              "      <td>012</td>\n",
              "      <td>4d68fdddb5deaa496ce485bd51929ab1</td>\n",
              "      <td>8269ce6d670375b55a0950102e364318</td>\n",
              "      <td>1.000</td>\n",
              "      <td>47.99</td>\n",
              "      <td>0</td>\n",
              "    </tr>\n",
              "  </tbody>\n",
              "</table>\n",
              "</div>"
            ],
            "text/plain": [
              "                              chq_id  ... is_promo\n",
              "0   ce5b3d1c531348c5d0d8e859b6d0cf91  ...        0\n",
              "1   ce5b3d1c531348c5d0d8e859b6d0cf91  ...        1\n",
              "2   ce5b3d1c531348c5d0d8e859b6d0cf91  ...        1\n",
              "3   ce5b3d1c531348c5d0d8e859b6d0cf91  ...        1\n",
              "4   ce5b3d1c531348c5d0d8e859b6d0cf91  ...        1\n",
              "5   ce5b3d1c531348c5d0d8e859b6d0cf91  ...        1\n",
              "6   ce5b3d1c531348c5d0d8e859b6d0cf91  ...        0\n",
              "7   ce5b3d1c531348c5d0d8e859b6d0cf91  ...        1\n",
              "8   ce5b3d1c531348c5d0d8e859b6d0cf91  ...        1\n",
              "9   ce5b3d1c531348c5d0d8e859b6d0cf91  ...        1\n",
              "10  ce5b3d1c531348c5d0d8e859b6d0cf91  ...        1\n",
              "11  ce5b3d1c531348c5d0d8e859b6d0cf91  ...        1\n",
              "12  ce5b3d1c531348c5d0d8e859b6d0cf91  ...        0\n",
              "13  3be794c2ba7c330197026099a3bf73b1  ...        0\n",
              "14  37d1f3b79bae03f8d3c279436139251e  ...        1\n",
              "15  37d1f3b79bae03f8d3c279436139251e  ...        0\n",
              "16  37d1f3b79bae03f8d3c279436139251e  ...        0\n",
              "17  37d1f3b79bae03f8d3c279436139251e  ...        0\n",
              "18  37d1f3b79bae03f8d3c279436139251e  ...        0\n",
              "19  37d1f3b79bae03f8d3c279436139251e  ...        0\n",
              "20  37d1f3b79bae03f8d3c279436139251e  ...        1\n",
              "21  9645891030b4a3d0dee526c47dcbcd13  ...        0\n",
              "22  9645891030b4a3d0dee526c47dcbcd13  ...        0\n",
              "23  9645891030b4a3d0dee526c47dcbcd13  ...        1\n",
              "24  9645891030b4a3d0dee526c47dcbcd13  ...        1\n",
              "25  9645891030b4a3d0dee526c47dcbcd13  ...        0\n",
              "26  9645891030b4a3d0dee526c47dcbcd13  ...        1\n",
              "27  9645891030b4a3d0dee526c47dcbcd13  ...        1\n",
              "28  9645891030b4a3d0dee526c47dcbcd13  ...        1\n",
              "29  9645891030b4a3d0dee526c47dcbcd13  ...        0\n",
              "\n",
              "[30 rows x 9 columns]"
            ]
          },
          "metadata": {
            "tags": []
          },
          "execution_count": 10
        }
      ]
    },
    {
      "cell_type": "code",
      "metadata": {
        "id": "xVLFH8OyKTcq"
      },
      "source": [
        "test = trans.sort_values(by='chq_date')# .head(10000000)"
      ],
      "execution_count": null,
      "outputs": []
    },
    {
      "cell_type": "markdown",
      "metadata": {
        "id": "Vs43MwYBdMkR"
      },
      "source": [
        "1212ff8ecf53aebef093ca8ae216db68\n",
        "\n",
        "сезонность 55ad93c2949b2ac7b3c0fe4dae8ead3d"
      ]
    },
    {
      "cell_type": "code",
      "metadata": {
        "id": "U-fA11pYQ28p",
        "outputId": "0f59e6a0-330c-480e-aa60-9381c4db95ae",
        "colab": {
          "base_uri": "https://localhost:8080/",
          "height": 34
        }
      },
      "source": [
        "mat = '1212ff8ecf53aebef093ca8ae216db68\t'\n",
        "plant = '7cd86ecb09aa48c6e620b340f6a74592'\n",
        "test1 = test.loc[(test['material'] == mat) & (test['plant'] == plant)]\n",
        "test1.shape"
      ],
      "execution_count": null,
      "outputs": [
        {
          "output_type": "execute_result",
          "data": {
            "text/plain": [
              "(0, 9)"
            ]
          },
          "metadata": {
            "tags": []
          },
          "execution_count": 12
        }
      ]
    },
    {
      "cell_type": "code",
      "metadata": {
        "id": "zoalWEQ1JDD7"
      },
      "source": [
        "s = 22"
      ],
      "execution_count": null,
      "outputs": []
    },
    {
      "cell_type": "code",
      "metadata": {
        "id": "p3BMedwdXqbh"
      },
      "source": [
        "import matplotlib.pyplot as plt\n",
        "plt.rcParams.update({'font.size': 22})"
      ],
      "execution_count": null,
      "outputs": []
    },
    {
      "cell_type": "code",
      "metadata": {
        "id": "sued9fIIYSLa",
        "outputId": "2d323446-94db-49c6-b8e6-02bf98dd6dea",
        "colab": {
          "base_uri": "https://localhost:8080/",
          "height": 35
        }
      },
      "source": [
        "trans.material[s]"
      ],
      "execution_count": null,
      "outputs": [
        {
          "output_type": "execute_result",
          "data": {
            "application/vnd.google.colaboratory.intrinsic+json": {
              "type": "string"
            },
            "text/plain": [
              "'9136b34daa7202b248cfefa498822c34'"
            ]
          },
          "metadata": {
            "tags": []
          },
          "execution_count": 15
        }
      ]
    },
    {
      "cell_type": "code",
      "metadata": {
        "id": "iUU6hDUmIuwR",
        "outputId": "bc154bab-8453-42d8-a7ec-84033d88ca9e",
        "colab": {
          "base_uri": "https://localhost:8080/",
          "height": 316
        }
      },
      "source": [
        "mat = trans.material[s]\n",
        "#mat = 'b75147feae4cf8ec07fb5f2cef855def'\n",
        "test1 = test.loc[test['material'] == mat]\n",
        "y = test1.groupby(['chq_date', 'material']).sum()\n",
        "fin = pd.merge(dates, y.reset_index(), on='chq_date', how='outer').fillna(0).sort_values('chq_date')\n",
        "fin['material'] = mat\n",
        "fin = fin.reset_index()\n",
        "plt.plot(fin.sales_count.rolling(window=20, min_periods=1).mean()*10, linewidth=2)\n",
        "plt.xlabel(\"Days of the year\")\n",
        "plt.ylabel(\"Sales amount\")\n",
        "#plt.title(\"Sales of the favourite product - 281ff47087464d3f747d7acd71f9dcd6\")"
      ],
      "execution_count": null,
      "outputs": [
        {
          "output_type": "execute_result",
          "data": {
            "text/plain": [
              "Text(0, 0.5, 'Sales amount')"
            ]
          },
          "metadata": {
            "tags": []
          },
          "execution_count": 16
        },
        {
          "output_type": "display_data",
          "data": {
            "image/png": "[encoded data removed]",
            "text/plain": [
              "<Figure size 432x288 with 1 Axes>"
            ]
          },
          "metadata": {
            "tags": [],
            "needs_background": "light"
          }
        }
      ]
    },
    {
      "cell_type": "code",
      "metadata": {
        "id": "2vTvqteE7qgA",
        "outputId": "8ea3f1db-f93b-47d0-a63d-94b41699f224",
        "colab": {
          "base_uri": "https://localhost:8080/",
          "height": 34
        }
      },
      "source": [
        "mat = '33fa1fd7d0c11ccde404416d63e9b50a'\n",
        "test1 = test.loc[test['material'] == mat]\n",
        "test1.shape"
      ],
      "execution_count": null,
      "outputs": [
        {
          "output_type": "execute_result",
          "data": {
            "text/plain": [
              "(2005, 9)"
            ]
          },
          "metadata": {
            "tags": []
          },
          "execution_count": 17
        }
      ]
    },
    {
      "cell_type": "code",
      "metadata": {
        "id": "VGDR-EX7KXsH",
        "outputId": "53589f70-c142-46b3-e51b-9c40ef6c2ab6",
        "colab": {
          "base_uri": "https://localhost:8080/",
          "height": 455
        }
      },
      "source": [
        "y = test1.groupby(['chq_date', 'material']).sum()\n",
        "y"
      ],
      "execution_count": null,
      "outputs": [
        {
          "output_type": "execute_result",
          "data": {
            "text/html": [
              "<div>\n",
              "<style scoped>\n",
              "    .dataframe tbody tr th:only-of-type {\n",
              "        vertical-align: middle;\n",
              "    }\n",
              "\n",
              "    .dataframe tbody tr th {\n",
              "        vertical-align: top;\n",
              "    }\n",
              "\n",
              "    .dataframe thead th {\n",
              "        text-align: right;\n",
              "    }\n",
              "</style>\n",
              "<table border=\"1\" class=\"dataframe\">\n",
              "  <thead>\n",
              "    <tr style=\"text-align: right;\">\n",
              "      <th></th>\n",
              "      <th></th>\n",
              "      <th>sales_count</th>\n",
              "      <th>sales_sum</th>\n",
              "      <th>is_promo</th>\n",
              "    </tr>\n",
              "    <tr>\n",
              "      <th>chq_date</th>\n",
              "      <th>material</th>\n",
              "      <th></th>\n",
              "      <th></th>\n",
              "      <th></th>\n",
              "    </tr>\n",
              "  </thead>\n",
              "  <tbody>\n",
              "    <tr>\n",
              "      <th>2016-10-04</th>\n",
              "      <th>33fa1fd7d0c11ccde404416d63e9b50a</th>\n",
              "      <td>3.0</td>\n",
              "      <td>2092.40</td>\n",
              "      <td>1</td>\n",
              "    </tr>\n",
              "    <tr>\n",
              "      <th>2016-10-05</th>\n",
              "      <th>33fa1fd7d0c11ccde404416d63e9b50a</th>\n",
              "      <td>2.0</td>\n",
              "      <td>1544.92</td>\n",
              "      <td>0</td>\n",
              "    </tr>\n",
              "    <tr>\n",
              "      <th>2016-10-06</th>\n",
              "      <th>33fa1fd7d0c11ccde404416d63e9b50a</th>\n",
              "      <td>2.0</td>\n",
              "      <td>1374.78</td>\n",
              "      <td>0</td>\n",
              "    </tr>\n",
              "    <tr>\n",
              "      <th>2016-10-08</th>\n",
              "      <th>33fa1fd7d0c11ccde404416d63e9b50a</th>\n",
              "      <td>1.0</td>\n",
              "      <td>599.79</td>\n",
              "      <td>0</td>\n",
              "    </tr>\n",
              "    <tr>\n",
              "      <th>2016-10-09</th>\n",
              "      <th>33fa1fd7d0c11ccde404416d63e9b50a</th>\n",
              "      <td>2.0</td>\n",
              "      <td>1488.49</td>\n",
              "      <td>0</td>\n",
              "    </tr>\n",
              "    <tr>\n",
              "      <th>...</th>\n",
              "      <th>...</th>\n",
              "      <td>...</td>\n",
              "      <td>...</td>\n",
              "      <td>...</td>\n",
              "    </tr>\n",
              "    <tr>\n",
              "      <th>2017-09-28</th>\n",
              "      <th>33fa1fd7d0c11ccde404416d63e9b50a</th>\n",
              "      <td>3.0</td>\n",
              "      <td>2033.27</td>\n",
              "      <td>0</td>\n",
              "    </tr>\n",
              "    <tr>\n",
              "      <th>2017-09-30</th>\n",
              "      <th>33fa1fd7d0c11ccde404416d63e9b50a</th>\n",
              "      <td>5.0</td>\n",
              "      <td>3333.99</td>\n",
              "      <td>0</td>\n",
              "    </tr>\n",
              "    <tr>\n",
              "      <th>2017-10-02</th>\n",
              "      <th>33fa1fd7d0c11ccde404416d63e9b50a</th>\n",
              "      <td>4.0</td>\n",
              "      <td>2999.43</td>\n",
              "      <td>0</td>\n",
              "    </tr>\n",
              "    <tr>\n",
              "      <th>2017-10-03</th>\n",
              "      <th>33fa1fd7d0c11ccde404416d63e9b50a</th>\n",
              "      <td>2.0</td>\n",
              "      <td>1159.00</td>\n",
              "      <td>2</td>\n",
              "    </tr>\n",
              "    <tr>\n",
              "      <th>2017-10-04</th>\n",
              "      <th>33fa1fd7d0c11ccde404416d63e9b50a</th>\n",
              "      <td>18.0</td>\n",
              "      <td>10432.34</td>\n",
              "      <td>18</td>\n",
              "    </tr>\n",
              "  </tbody>\n",
              "</table>\n",
              "<p>268 rows × 3 columns</p>\n",
              "</div>"
            ],
            "text/plain": [
              "                                             sales_count  sales_sum  is_promo\n",
              "chq_date   material                                                          \n",
              "2016-10-04 33fa1fd7d0c11ccde404416d63e9b50a          3.0    2092.40         1\n",
              "2016-10-05 33fa1fd7d0c11ccde404416d63e9b50a          2.0    1544.92         0\n",
              "2016-10-06 33fa1fd7d0c11ccde404416d63e9b50a          2.0    1374.78         0\n",
              "2016-10-08 33fa1fd7d0c11ccde404416d63e9b50a          1.0     599.79         0\n",
              "2016-10-09 33fa1fd7d0c11ccde404416d63e9b50a          2.0    1488.49         0\n",
              "...                                                  ...        ...       ...\n",
              "2017-09-28 33fa1fd7d0c11ccde404416d63e9b50a          3.0    2033.27         0\n",
              "2017-09-30 33fa1fd7d0c11ccde404416d63e9b50a          5.0    3333.99         0\n",
              "2017-10-02 33fa1fd7d0c11ccde404416d63e9b50a          4.0    2999.43         0\n",
              "2017-10-03 33fa1fd7d0c11ccde404416d63e9b50a          2.0    1159.00         2\n",
              "2017-10-04 33fa1fd7d0c11ccde404416d63e9b50a         18.0   10432.34        18\n",
              "\n",
              "[268 rows x 3 columns]"
            ]
          },
          "metadata": {
            "tags": []
          },
          "execution_count": 18
        }
      ]
    },
    {
      "cell_type": "code",
      "metadata": {
        "id": "9Ewiy7qd4qYU",
        "outputId": "5e89e030-f0b6-4de1-f6a8-c50019ec741a",
        "colab": {
          "base_uri": "https://localhost:8080/",
          "height": 424
        }
      },
      "source": [
        "fin = pd.merge(dates, y.reset_index(), on='chq_date', how='outer').fillna(0).sort_values('chq_date')\n",
        "fin['material'] = mat\n",
        "fin = fin.reset_index()\n",
        "fin"
      ],
      "execution_count": null,
      "outputs": [
        {
          "output_type": "execute_result",
          "data": {
            "text/html": [
              "<div>\n",
              "<style scoped>\n",
              "    .dataframe tbody tr th:only-of-type {\n",
              "        vertical-align: middle;\n",
              "    }\n",
              "\n",
              "    .dataframe tbody tr th {\n",
              "        vertical-align: top;\n",
              "    }\n",
              "\n",
              "    .dataframe thead th {\n",
              "        text-align: right;\n",
              "    }\n",
              "</style>\n",
              "<table border=\"1\" class=\"dataframe\">\n",
              "  <thead>\n",
              "    <tr style=\"text-align: right;\">\n",
              "      <th></th>\n",
              "      <th>index</th>\n",
              "      <th>chq_date</th>\n",
              "      <th>material</th>\n",
              "      <th>sales_count</th>\n",
              "      <th>sales_sum</th>\n",
              "      <th>is_promo</th>\n",
              "    </tr>\n",
              "  </thead>\n",
              "  <tbody>\n",
              "    <tr>\n",
              "      <th>0</th>\n",
              "      <td>220</td>\n",
              "      <td>2016-10-04</td>\n",
              "      <td>33fa1fd7d0c11ccde404416d63e9b50a</td>\n",
              "      <td>3.0</td>\n",
              "      <td>2092.40</td>\n",
              "      <td>1.0</td>\n",
              "    </tr>\n",
              "    <tr>\n",
              "      <th>1</th>\n",
              "      <td>237</td>\n",
              "      <td>2016-10-05</td>\n",
              "      <td>33fa1fd7d0c11ccde404416d63e9b50a</td>\n",
              "      <td>2.0</td>\n",
              "      <td>1544.92</td>\n",
              "      <td>0.0</td>\n",
              "    </tr>\n",
              "    <tr>\n",
              "      <th>2</th>\n",
              "      <td>257</td>\n",
              "      <td>2016-10-06</td>\n",
              "      <td>33fa1fd7d0c11ccde404416d63e9b50a</td>\n",
              "      <td>2.0</td>\n",
              "      <td>1374.78</td>\n",
              "      <td>0.0</td>\n",
              "    </tr>\n",
              "    <tr>\n",
              "      <th>3</th>\n",
              "      <td>273</td>\n",
              "      <td>2016-10-07</td>\n",
              "      <td>33fa1fd7d0c11ccde404416d63e9b50a</td>\n",
              "      <td>0.0</td>\n",
              "      <td>0.00</td>\n",
              "      <td>0.0</td>\n",
              "    </tr>\n",
              "    <tr>\n",
              "      <th>4</th>\n",
              "      <td>295</td>\n",
              "      <td>2016-10-08</td>\n",
              "      <td>33fa1fd7d0c11ccde404416d63e9b50a</td>\n",
              "      <td>1.0</td>\n",
              "      <td>599.79</td>\n",
              "      <td>0.0</td>\n",
              "    </tr>\n",
              "    <tr>\n",
              "      <th>...</th>\n",
              "      <td>...</td>\n",
              "      <td>...</td>\n",
              "      <td>...</td>\n",
              "      <td>...</td>\n",
              "      <td>...</td>\n",
              "      <td>...</td>\n",
              "    </tr>\n",
              "    <tr>\n",
              "      <th>361</th>\n",
              "      <td>224</td>\n",
              "      <td>2017-09-30</td>\n",
              "      <td>33fa1fd7d0c11ccde404416d63e9b50a</td>\n",
              "      <td>5.0</td>\n",
              "      <td>3333.99</td>\n",
              "      <td>0.0</td>\n",
              "    </tr>\n",
              "    <tr>\n",
              "      <th>362</th>\n",
              "      <td>352</td>\n",
              "      <td>2017-10-01</td>\n",
              "      <td>33fa1fd7d0c11ccde404416d63e9b50a</td>\n",
              "      <td>0.0</td>\n",
              "      <td>0.00</td>\n",
              "      <td>0.0</td>\n",
              "    </tr>\n",
              "    <tr>\n",
              "      <th>363</th>\n",
              "      <td>196</td>\n",
              "      <td>2017-10-02</td>\n",
              "      <td>33fa1fd7d0c11ccde404416d63e9b50a</td>\n",
              "      <td>4.0</td>\n",
              "      <td>2999.43</td>\n",
              "      <td>0.0</td>\n",
              "    </tr>\n",
              "    <tr>\n",
              "      <th>364</th>\n",
              "      <td>197</td>\n",
              "      <td>2017-10-03</td>\n",
              "      <td>33fa1fd7d0c11ccde404416d63e9b50a</td>\n",
              "      <td>2.0</td>\n",
              "      <td>1159.00</td>\n",
              "      <td>2.0</td>\n",
              "    </tr>\n",
              "    <tr>\n",
              "      <th>365</th>\n",
              "      <td>198</td>\n",
              "      <td>2017-10-04</td>\n",
              "      <td>33fa1fd7d0c11ccde404416d63e9b50a</td>\n",
              "      <td>18.0</td>\n",
              "      <td>10432.34</td>\n",
              "      <td>18.0</td>\n",
              "    </tr>\n",
              "  </tbody>\n",
              "</table>\n",
              "<p>366 rows × 6 columns</p>\n",
              "</div>"
            ],
            "text/plain": [
              "     index   chq_date  ... sales_sum  is_promo\n",
              "0      220 2016-10-04  ...   2092.40       1.0\n",
              "1      237 2016-10-05  ...   1544.92       0.0\n",
              "2      257 2016-10-06  ...   1374.78       0.0\n",
              "3      273 2016-10-07  ...      0.00       0.0\n",
              "4      295 2016-10-08  ...    599.79       0.0\n",
              "..     ...        ...  ...       ...       ...\n",
              "361    224 2017-09-30  ...   3333.99       0.0\n",
              "362    352 2017-10-01  ...      0.00       0.0\n",
              "363    196 2017-10-02  ...   2999.43       0.0\n",
              "364    197 2017-10-03  ...   1159.00       2.0\n",
              "365    198 2017-10-04  ...  10432.34      18.0\n",
              "\n",
              "[366 rows x 6 columns]"
            ]
          },
          "metadata": {
            "tags": []
          },
          "execution_count": 19
        }
      ]
    },
    {
      "cell_type": "code",
      "metadata": {
        "id": "x4kxrqhc8tQg",
        "outputId": "29af3b61-cfd4-4aef-f3ff-495cfebeb6ae",
        "colab": {
          "base_uri": "https://localhost:8080/",
          "height": 292
        }
      },
      "source": [
        "plt.plot(fin.sales_count.rolling(window=20, min_periods=1).mean())"
      ],
      "execution_count": null,
      "outputs": [
        {
          "output_type": "execute_result",
          "data": {
            "text/plain": [
              "[<matplotlib.lines.Line2D at 0x7fbbca6fa780>]"
            ]
          },
          "metadata": {
            "tags": []
          },
          "execution_count": 20
        },
        {
          "output_type": "display_data",
          "data": {
            "image/png": "[encoded data removed]",
            "text/plain": [
              "<Figure size 432x288 with 1 Axes>"
            ]
          },
          "metadata": {
            "tags": [],
            "needs_background": "light"
          }
        }
      ]
    },
    {
      "cell_type": "code",
      "metadata": {
        "id": "YB1aHYiK6bQh",
        "outputId": "32d6c2da-cb91-4641-d52c-bb5a01ae6304",
        "colab": {
          "base_uri": "https://localhost:8080/",
          "height": 292
        }
      },
      "source": [
        "plt.scatter(fin.index, fin.sales_count)"
      ],
      "execution_count": null,
      "outputs": [
        {
          "output_type": "execute_result",
          "data": {
            "text/plain": [
              "<matplotlib.collections.PathCollection at 0x7fbbca6c8b38>"
            ]
          },
          "metadata": {
            "tags": []
          },
          "execution_count": 21
        },
        {
          "output_type": "display_data",
          "data": {
            "image/png": "[encoded data removed]",
            "text/plain": [
              "<Figure size 432x288 with 1 Axes>"
            ]
          },
          "metadata": {
            "tags": [],
            "needs_background": "light"
          }
        }
      ]
    },
    {
      "cell_type": "code",
      "metadata": {
        "id": "rkinj0AUKDgl",
        "outputId": "656f2c1e-0218-4403-bf8d-cf227be2d1bf",
        "colab": {
          "base_uri": "https://localhost:8080/",
          "height": 455
        }
      },
      "source": [
        "y = test.groupby(['material']).sum()\n",
        "y"
      ],
      "execution_count": null,
      "outputs": [
        {
          "output_type": "execute_result",
          "data": {
            "text/html": [
              "<div>\n",
              "<style scoped>\n",
              "    .dataframe tbody tr th:only-of-type {\n",
              "        vertical-align: middle;\n",
              "    }\n",
              "\n",
              "    .dataframe tbody tr th {\n",
              "        vertical-align: top;\n",
              "    }\n",
              "\n",
              "    .dataframe thead th {\n",
              "        text-align: right;\n",
              "    }\n",
              "</style>\n",
              "<table border=\"1\" class=\"dataframe\">\n",
              "  <thead>\n",
              "    <tr style=\"text-align: right;\">\n",
              "      <th></th>\n",
              "      <th>sales_count</th>\n",
              "      <th>sales_sum</th>\n",
              "      <th>is_promo</th>\n",
              "    </tr>\n",
              "    <tr>\n",
              "      <th>material</th>\n",
              "      <th></th>\n",
              "      <th></th>\n",
              "      <th></th>\n",
              "    </tr>\n",
              "  </thead>\n",
              "  <tbody>\n",
              "    <tr>\n",
              "      <th>000062284ffb915ba6b88a36e3cb7ba8</th>\n",
              "      <td>55.000</td>\n",
              "      <td>2763.00</td>\n",
              "      <td>6</td>\n",
              "    </tr>\n",
              "    <tr>\n",
              "      <th>00011c1252f877221e0e0a3ddf21858e</th>\n",
              "      <td>225.000</td>\n",
              "      <td>36722.53</td>\n",
              "      <td>128</td>\n",
              "    </tr>\n",
              "    <tr>\n",
              "      <th>000189cbec3b82946747db131d67805a</th>\n",
              "      <td>283.000</td>\n",
              "      <td>14758.01</td>\n",
              "      <td>48</td>\n",
              "    </tr>\n",
              "    <tr>\n",
              "      <th>000273bf6eb4ba9a2ec52c0b5ee564ed</th>\n",
              "      <td>2842.422</td>\n",
              "      <td>798334.62</td>\n",
              "      <td>2511</td>\n",
              "    </tr>\n",
              "    <tr>\n",
              "      <th>00033dd12618c86f7451b1e18af8bb60</th>\n",
              "      <td>136.000</td>\n",
              "      <td>37525.12</td>\n",
              "      <td>119</td>\n",
              "    </tr>\n",
              "    <tr>\n",
              "      <th>...</th>\n",
              "      <td>...</td>\n",
              "      <td>...</td>\n",
              "      <td>...</td>\n",
              "    </tr>\n",
              "    <tr>\n",
              "      <th>fffe0dced2748225d104997dd097e1ee</th>\n",
              "      <td>64.000</td>\n",
              "      <td>4962.05</td>\n",
              "      <td>60</td>\n",
              "    </tr>\n",
              "    <tr>\n",
              "      <th>fffe26ba1322542f2cafe284ae5eda5c</th>\n",
              "      <td>13.000</td>\n",
              "      <td>2180.21</td>\n",
              "      <td>6</td>\n",
              "    </tr>\n",
              "    <tr>\n",
              "      <th>fffe733d307911ecb0fb595168118bfb</th>\n",
              "      <td>3.000</td>\n",
              "      <td>2892.37</td>\n",
              "      <td>3</td>\n",
              "    </tr>\n",
              "    <tr>\n",
              "      <th>fffe7667af60af7d6776ad2e3edac32a</th>\n",
              "      <td>2.409</td>\n",
              "      <td>4242.30</td>\n",
              "      <td>9</td>\n",
              "    </tr>\n",
              "    <tr>\n",
              "      <th>ffff4284e30a31e6698eb35b8fb0fe37</th>\n",
              "      <td>144.000</td>\n",
              "      <td>21043.14</td>\n",
              "      <td>75</td>\n",
              "    </tr>\n",
              "  </tbody>\n",
              "</table>\n",
              "<p>105694 rows × 3 columns</p>\n",
              "</div>"
            ],
            "text/plain": [
              "                                  sales_count  sales_sum  is_promo\n",
              "material                                                          \n",
              "000062284ffb915ba6b88a36e3cb7ba8       55.000    2763.00         6\n",
              "00011c1252f877221e0e0a3ddf21858e      225.000   36722.53       128\n",
              "000189cbec3b82946747db131d67805a      283.000   14758.01        48\n",
              "000273bf6eb4ba9a2ec52c0b5ee564ed     2842.422  798334.62      2511\n",
              "00033dd12618c86f7451b1e18af8bb60      136.000   37525.12       119\n",
              "...                                       ...        ...       ...\n",
              "fffe0dced2748225d104997dd097e1ee       64.000    4962.05        60\n",
              "fffe26ba1322542f2cafe284ae5eda5c       13.000    2180.21         6\n",
              "fffe733d307911ecb0fb595168118bfb        3.000    2892.37         3\n",
              "fffe7667af60af7d6776ad2e3edac32a        2.409    4242.30         9\n",
              "ffff4284e30a31e6698eb35b8fb0fe37      144.000   21043.14        75\n",
              "\n",
              "[105694 rows x 3 columns]"
            ]
          },
          "metadata": {
            "tags": []
          },
          "execution_count": 22
        }
      ]
    },
    {
      "cell_type": "code",
      "metadata": {
        "id": "HHNmyPaWMQ9X",
        "outputId": "f54a37c7-517b-42d2-cac8-445e44538eab",
        "colab": {
          "base_uri": "https://localhost:8080/",
          "height": 225
        }
      },
      "source": [
        "y.reset_index()['sales_count'].argsort()"
      ],
      "execution_count": null,
      "outputs": [
        {
          "output_type": "execute_result",
          "data": {
            "text/plain": [
              "0         36899\n",
              "1         96568\n",
              "2          8643\n",
              "3          2381\n",
              "4         64384\n",
              "          ...  \n",
              "105689    75428\n",
              "105690     8163\n",
              "105691    40490\n",
              "105692    24039\n",
              "105693    75536\n",
              "Name: sales_count, Length: 105694, dtype: int64"
            ]
          },
          "metadata": {
            "tags": []
          },
          "execution_count": 24
        }
      ]
    },
    {
      "cell_type": "code",
      "metadata": {
        "id": "VWEBZp5tKEQz",
        "outputId": "6bcd3d74-104e-4ad0-91d1-69df47245ef0",
        "colab": {
          "base_uri": "https://localhost:8080/",
          "height": 69
        }
      },
      "source": [
        "y.reset_index().material[y['sales_count'].nlargest(1)]"
      ],
      "execution_count": null,
      "outputs": [
        {
          "output_type": "execute_result",
          "data": {
            "text/plain": [
              "sales_count\n",
              "898142.0    NaN\n",
              "Name: material, dtype: object"
            ]
          },
          "metadata": {
            "tags": []
          },
          "execution_count": 27
        }
      ]
    },
    {
      "cell_type": "code",
      "metadata": {
        "id": "dLATl2jEJbKQ",
        "outputId": "c77bd68e-7699-4ddc-b735-67a2d35845d2",
        "colab": {
          "base_uri": "https://localhost:8080/",
          "height": 34
        }
      },
      "source": [
        "trans.sort_values(by='chq_date').groupby(['material'])"
      ],
      "execution_count": null,
      "outputs": [
        {
          "output_type": "execute_result",
          "data": {
            "text/plain": [
              "<pandas.core.groupby.generic.DataFrameGroupBy object at 0x7fbbca673fd0>"
            ]
          },
          "metadata": {
            "tags": []
          },
          "execution_count": 30
        }
      ]
    },
    {
      "cell_type": "code",
      "metadata": {
        "id": "zl8m8ohDOSKP"
      },
      "source": [
        "x = trans.groupby(['client_id', 'chq_id']).sum()"
      ],
      "execution_count": null,
      "outputs": []
    },
    {
      "cell_type": "code",
      "metadata": {
        "id": "N4wKthVKP2bb",
        "outputId": "c75b7c11-f095-43a1-d3fd-d9021cc83491",
        "colab": {
          "base_uri": "https://localhost:8080/",
          "height": 455
        }
      },
      "source": [
        "x"
      ],
      "execution_count": null,
      "outputs": [
        {
          "output_type": "execute_result",
          "data": {
            "text/html": [
              "<div>\n",
              "<style scoped>\n",
              "    .dataframe tbody tr th:only-of-type {\n",
              "        vertical-align: middle;\n",
              "    }\n",
              "\n",
              "    .dataframe tbody tr th {\n",
              "        vertical-align: top;\n",
              "    }\n",
              "\n",
              "    .dataframe thead th {\n",
              "        text-align: right;\n",
              "    }\n",
              "</style>\n",
              "<table border=\"1\" class=\"dataframe\">\n",
              "  <thead>\n",
              "    <tr style=\"text-align: right;\">\n",
              "      <th></th>\n",
              "      <th></th>\n",
              "      <th>sales_count</th>\n",
              "      <th>sales_sum</th>\n",
              "      <th>is_promo</th>\n",
              "    </tr>\n",
              "    <tr>\n",
              "      <th>client_id</th>\n",
              "      <th>chq_id</th>\n",
              "      <th></th>\n",
              "      <th></th>\n",
              "      <th></th>\n",
              "    </tr>\n",
              "  </thead>\n",
              "  <tbody>\n",
              "    <tr>\n",
              "      <th rowspan=\"5\" valign=\"top\">0000d48a8891cd462fdf01ea861ec53e</th>\n",
              "      <th>06c8917969c640e22d94ef876d195ebd</th>\n",
              "      <td>8.594</td>\n",
              "      <td>675.0</td>\n",
              "      <td>0</td>\n",
              "    </tr>\n",
              "    <tr>\n",
              "      <th>07296c20aef47baa760bbecef9e5458b</th>\n",
              "      <td>16.866</td>\n",
              "      <td>1426.0</td>\n",
              "      <td>11</td>\n",
              "    </tr>\n",
              "    <tr>\n",
              "      <th>229bd1cf3168e342447c451594b1a24d</th>\n",
              "      <td>32.498</td>\n",
              "      <td>2922.0</td>\n",
              "      <td>5</td>\n",
              "    </tr>\n",
              "    <tr>\n",
              "      <th>23732c893fa67ebb0dc5a30f701512f2</th>\n",
              "      <td>45.537</td>\n",
              "      <td>3526.0</td>\n",
              "      <td>8</td>\n",
              "    </tr>\n",
              "    <tr>\n",
              "      <th>272d955e9fa15e17c0f9089bdf6283cd</th>\n",
              "      <td>27.618</td>\n",
              "      <td>2046.0</td>\n",
              "      <td>2</td>\n",
              "    </tr>\n",
              "    <tr>\n",
              "      <th>...</th>\n",
              "      <th>...</th>\n",
              "      <td>...</td>\n",
              "      <td>...</td>\n",
              "      <td>...</td>\n",
              "    </tr>\n",
              "    <tr>\n",
              "      <th rowspan=\"2\" valign=\"top\">fffc477269ae5f219e39aa51fa7abb81</th>\n",
              "      <th>da4a5469540e86268327d544b4f66474</th>\n",
              "      <td>29.628</td>\n",
              "      <td>3882.0</td>\n",
              "      <td>12</td>\n",
              "    </tr>\n",
              "    <tr>\n",
              "      <th>eb52b8b32c1af950aee99357c13b4bb3</th>\n",
              "      <td>72.678</td>\n",
              "      <td>6661.0</td>\n",
              "      <td>12</td>\n",
              "    </tr>\n",
              "    <tr>\n",
              "      <th rowspan=\"3\" valign=\"top\">fffd3e78e3ea6bf00aee1372efc09dad</th>\n",
              "      <th>631f77285180657dd00b5051ebad22ae</th>\n",
              "      <td>13.686</td>\n",
              "      <td>1221.0</td>\n",
              "      <td>5</td>\n",
              "    </tr>\n",
              "    <tr>\n",
              "      <th>65a48d8c83eff22f5ccab0cd3319b3c5</th>\n",
              "      <td>12.000</td>\n",
              "      <td>1213.0</td>\n",
              "      <td>1</td>\n",
              "    </tr>\n",
              "    <tr>\n",
              "      <th>cfd98a3011c3907c7614efbcac693d7e</th>\n",
              "      <td>4.208</td>\n",
              "      <td>220.0</td>\n",
              "      <td>1</td>\n",
              "    </tr>\n",
              "  </tbody>\n",
              "</table>\n",
              "<p>2964775 rows × 3 columns</p>\n",
              "</div>"
            ],
            "text/plain": [
              "                                                                   sales_count  ...  is_promo\n",
              "client_id                        chq_id                                         ...          \n",
              "0000d48a8891cd462fdf01ea861ec53e 06c8917969c640e22d94ef876d195ebd        8.594  ...         0\n",
              "                                 07296c20aef47baa760bbecef9e5458b       16.866  ...        11\n",
              "                                 229bd1cf3168e342447c451594b1a24d       32.498  ...         5\n",
              "                                 23732c893fa67ebb0dc5a30f701512f2       45.537  ...         8\n",
              "                                 272d955e9fa15e17c0f9089bdf6283cd       27.618  ...         2\n",
              "...                                                                        ...  ...       ...\n",
              "fffc477269ae5f219e39aa51fa7abb81 da4a5469540e86268327d544b4f66474       29.628  ...        12\n",
              "                                 eb52b8b32c1af950aee99357c13b4bb3       72.678  ...        12\n",
              "fffd3e78e3ea6bf00aee1372efc09dad 631f77285180657dd00b5051ebad22ae       13.686  ...         5\n",
              "                                 65a48d8c83eff22f5ccab0cd3319b3c5       12.000  ...         1\n",
              "                                 cfd98a3011c3907c7614efbcac693d7e        4.208  ...         1\n",
              "\n",
              "[2964775 rows x 3 columns]"
            ]
          },
          "metadata": {
            "tags": []
          },
          "execution_count": 32
        }
      ]
    },
    {
      "cell_type": "code",
      "metadata": {
        "id": "_NE9xWjNOtcw"
      },
      "source": [
        ""
      ],
      "execution_count": null,
      "outputs": []
    },
    {
      "cell_type": "code",
      "metadata": {
        "id": "Im44ugeEK9_q",
        "outputId": "cec55ca3-ef92-4dde-9266-9fcf9c0b0db4",
        "colab": {
          "base_uri": "https://localhost:8080/",
          "height": 86
        }
      },
      "source": [
        "trans.groupby(['client_id', 'chq_id']).sum().mean() "
      ],
      "execution_count": null,
      "outputs": [
        {
          "output_type": "execute_result",
          "data": {
            "text/plain": [
              "sales_count      14.287657\n",
              "sales_sum      1330.903218\n",
              "is_promo          5.235194\n",
              "dtype: float64"
            ]
          },
          "metadata": {
            "tags": []
          },
          "execution_count": 33
        }
      ]
    },
    {
      "cell_type": "code",
      "metadata": {
        "id": "1FeiT9llPqsZ",
        "outputId": "67884f23-f4de-48e5-9333-0ad11234f036",
        "colab": {
          "base_uri": "https://localhost:8080/",
          "height": 86
        }
      },
      "source": [
        "x.mean() # средние для всего датасета"
      ],
      "execution_count": null,
      "outputs": [
        {
          "output_type": "execute_result",
          "data": {
            "text/plain": [
              "sales_count      14.287657\n",
              "sales_sum      1330.903218\n",
              "is_promo          5.235194\n",
              "dtype: float64"
            ]
          },
          "metadata": {
            "tags": []
          },
          "execution_count": 34
        }
      ]
    },
    {
      "cell_type": "code",
      "metadata": {
        "id": "Jo3sr-mpO6cO",
        "outputId": "8cb14389-9450-4910-bc68-30435969af4e",
        "colab": {
          "base_uri": "https://localhost:8080/",
          "height": 86
        }
      },
      "source": [
        "x.groupby(['client_id']).mean().mean() # средние для каждого человека"
      ],
      "execution_count": null,
      "outputs": [
        {
          "output_type": "execute_result",
          "data": {
            "text/plain": [
              "sales_count      15.051324\n",
              "sales_sum      1458.546350\n",
              "is_promo          5.451248\n",
              "dtype: float64"
            ]
          },
          "metadata": {
            "tags": []
          },
          "execution_count": 35
        }
      ]
    },
    {
      "cell_type": "code",
      "metadata": {
        "id": "_w9_fnuo_JtS"
      },
      "source": [
        "trans1 = trans.head(15)"
      ],
      "execution_count": null,
      "outputs": []
    },
    {
      "cell_type": "code",
      "metadata": {
        "id": "1eZzp7EI_Ppo",
        "outputId": "a02f630e-d381-458d-e8ff-c21cecbc9ade",
        "colab": {
          "base_uri": "https://localhost:8080/",
          "height": 226
        }
      },
      "source": [
        "trans1.head(5)"
      ],
      "execution_count": null,
      "outputs": [
        {
          "output_type": "execute_result",
          "data": {
            "text/html": [
              "<div>\n",
              "<style scoped>\n",
              "    .dataframe tbody tr th:only-of-type {\n",
              "        vertical-align: middle;\n",
              "    }\n",
              "\n",
              "    .dataframe tbody tr th {\n",
              "        vertical-align: top;\n",
              "    }\n",
              "\n",
              "    .dataframe thead th {\n",
              "        text-align: right;\n",
              "    }\n",
              "</style>\n",
              "<table border=\"1\" class=\"dataframe\">\n",
              "  <thead>\n",
              "    <tr style=\"text-align: right;\">\n",
              "      <th></th>\n",
              "      <th>chq_id</th>\n",
              "      <th>plant</th>\n",
              "      <th>chq_date</th>\n",
              "      <th>chq_position</th>\n",
              "      <th>client_id</th>\n",
              "      <th>material</th>\n",
              "      <th>sales_count</th>\n",
              "      <th>sales_sum</th>\n",
              "      <th>is_promo</th>\n",
              "    </tr>\n",
              "  </thead>\n",
              "  <tbody>\n",
              "    <tr>\n",
              "      <th>0</th>\n",
              "      <td>ce5b3d1c531348c5d0d8e859b6d0cf91</td>\n",
              "      <td>7cd86ecb09aa48c6e620b340f6a74592</td>\n",
              "      <td>2016-11-01</td>\n",
              "      <td>004</td>\n",
              "      <td>90fca68123e692a005a4edeadd94b2f2</td>\n",
              "      <td>232cfe8b28970434f685b737737b26d4</td>\n",
              "      <td>2.0</td>\n",
              "      <td>146.98</td>\n",
              "      <td>0</td>\n",
              "    </tr>\n",
              "    <tr>\n",
              "      <th>1</th>\n",
              "      <td>ce5b3d1c531348c5d0d8e859b6d0cf91</td>\n",
              "      <td>7cd86ecb09aa48c6e620b340f6a74592</td>\n",
              "      <td>2016-11-01</td>\n",
              "      <td>003</td>\n",
              "      <td>90fca68123e692a005a4edeadd94b2f2</td>\n",
              "      <td>12ec64451b8e426db16f3f05ea770901</td>\n",
              "      <td>1.0</td>\n",
              "      <td>249.99</td>\n",
              "      <td>1</td>\n",
              "    </tr>\n",
              "    <tr>\n",
              "      <th>2</th>\n",
              "      <td>ce5b3d1c531348c5d0d8e859b6d0cf91</td>\n",
              "      <td>7cd86ecb09aa48c6e620b340f6a74592</td>\n",
              "      <td>2016-11-01</td>\n",
              "      <td>012</td>\n",
              "      <td>90fca68123e692a005a4edeadd94b2f2</td>\n",
              "      <td>1212ff8ecf53aebef093ca8ae216db68</td>\n",
              "      <td>1.0</td>\n",
              "      <td>47.99</td>\n",
              "      <td>1</td>\n",
              "    </tr>\n",
              "    <tr>\n",
              "      <th>3</th>\n",
              "      <td>ce5b3d1c531348c5d0d8e859b6d0cf91</td>\n",
              "      <td>7cd86ecb09aa48c6e620b340f6a74592</td>\n",
              "      <td>2016-11-01</td>\n",
              "      <td>013</td>\n",
              "      <td>90fca68123e692a005a4edeadd94b2f2</td>\n",
              "      <td>1212ff8ecf53aebef093ca8ae216db68</td>\n",
              "      <td>1.0</td>\n",
              "      <td>47.99</td>\n",
              "      <td>1</td>\n",
              "    </tr>\n",
              "    <tr>\n",
              "      <th>4</th>\n",
              "      <td>ce5b3d1c531348c5d0d8e859b6d0cf91</td>\n",
              "      <td>7cd86ecb09aa48c6e620b340f6a74592</td>\n",
              "      <td>2016-11-01</td>\n",
              "      <td>011</td>\n",
              "      <td>90fca68123e692a005a4edeadd94b2f2</td>\n",
              "      <td>571c6d3b559db8445e05265649eb30ab</td>\n",
              "      <td>2.0</td>\n",
              "      <td>53.98</td>\n",
              "      <td>1</td>\n",
              "    </tr>\n",
              "  </tbody>\n",
              "</table>\n",
              "</div>"
            ],
            "text/plain": [
              "                             chq_id  ... is_promo\n",
              "0  ce5b3d1c531348c5d0d8e859b6d0cf91  ...        0\n",
              "1  ce5b3d1c531348c5d0d8e859b6d0cf91  ...        1\n",
              "2  ce5b3d1c531348c5d0d8e859b6d0cf91  ...        1\n",
              "3  ce5b3d1c531348c5d0d8e859b6d0cf91  ...        1\n",
              "4  ce5b3d1c531348c5d0d8e859b6d0cf91  ...        1\n",
              "\n",
              "[5 rows x 9 columns]"
            ]
          },
          "metadata": {
            "tags": []
          },
          "execution_count": 37
        }
      ]
    },
    {
      "cell_type": "code",
      "metadata": {
        "id": "RB92EFCiCvl2"
      },
      "source": [
        "x = trans[(trans.material == '571c6d3b559db8445e05265649eb30ab') & (trans.is_promo == 0)]"
      ],
      "execution_count": null,
      "outputs": []
    },
    {
      "cell_type": "code",
      "metadata": {
        "id": "MG_UFH3NDjmH"
      },
      "source": [
        "y = trans[(trans.material == '571c6d3b559db8445e05265649eb30ab') & (trans.is_promo == 1)]"
      ],
      "execution_count": null,
      "outputs": []
    },
    {
      "cell_type": "code",
      "metadata": {
        "id": "5WCf2m6ADZTX",
        "outputId": "755c25f5-5421-4e80-93ff-f7bc9ae93149",
        "colab": {
          "base_uri": "https://localhost:8080/",
          "height": 34
        }
      },
      "source": [
        "(x.sales_sum / x.sales_count).mean(), (x.sales_sum / x.sales_count).max()"
      ],
      "execution_count": null,
      "outputs": [
        {
          "output_type": "execute_result",
          "data": {
            "text/plain": [
              "(29.618266798791993, 43.79)"
            ]
          },
          "metadata": {
            "tags": []
          },
          "execution_count": 40
        }
      ]
    },
    {
      "cell_type": "code",
      "metadata": {
        "id": "B-Vr8b6NDpZZ",
        "outputId": "d0afc991-0a2d-47ee-d226-27ce34ad60c5",
        "colab": {
          "base_uri": "https://localhost:8080/",
          "height": 34
        }
      },
      "source": [
        "(y.sales_sum / y.sales_count).mean(), (y.sales_sum / y.sales_count).max()"
      ],
      "execution_count": null,
      "outputs": [
        {
          "output_type": "execute_result",
          "data": {
            "text/plain": [
              "(24.41210848861266, 37.79)"
            ]
          },
          "metadata": {
            "tags": []
          },
          "execution_count": 41
        }
      ]
    },
    {
      "cell_type": "code",
      "metadata": {
        "id": "GmgbG1XX8UCj"
      },
      "source": [
        "prices = trans1.sales_sum / trans1.sales_count"
      ],
      "execution_count": null,
      "outputs": []
    },
    {
      "cell_type": "code",
      "metadata": {
        "id": "L6S-Yp2sCkyB",
        "outputId": "42b304da-4ed6-4ac9-ac30-4554b9697e50",
        "colab": {
          "base_uri": "https://localhost:8080/",
          "height": 295
        }
      },
      "source": [
        "prices"
      ],
      "execution_count": null,
      "outputs": [
        {
          "output_type": "execute_result",
          "data": {
            "text/plain": [
              "0      73.490000\n",
              "1     249.990000\n",
              "2      47.990000\n",
              "3      47.990000\n",
              "4      26.990000\n",
              "5      32.390000\n",
              "6      89.986264\n",
              "7      36.990000\n",
              "8      36.495000\n",
              "9      25.990000\n",
              "10    549.940000\n",
              "11    179.990000\n",
              "12     64.890000\n",
              "13     81.500000\n",
              "14     99.990000\n",
              "dtype: float64"
            ]
          },
          "metadata": {
            "tags": []
          },
          "execution_count": 43
        }
      ]
    },
    {
      "cell_type": "code",
      "metadata": {
        "id": "7rUrSE8Q8UIR",
        "outputId": "087de666-1214-41ea-d7fd-46adf1788358",
        "colab": {
          "base_uri": "https://localhost:8080/",
          "height": 292
        }
      },
      "source": [
        "plt.plot(prices)"
      ],
      "execution_count": null,
      "outputs": [
        {
          "output_type": "execute_result",
          "data": {
            "text/plain": [
              "[<matplotlib.lines.Line2D at 0x7fbbca558be0>]"
            ]
          },
          "metadata": {
            "tags": []
          },
          "execution_count": 44
        },
        {
          "output_type": "display_data",
          "data": {
            "image/png": "[encoded data removed]",
            "text/plain": [
              "<Figure size 432x288 with 1 Axes>"
            ]
          },
          "metadata": {
            "tags": [],
            "needs_background": "light"
          }
        }
      ]
    },
    {
      "cell_type": "code",
      "metadata": {
        "id": "naK7jG0VAajZ",
        "outputId": "d5f3eaab-7ec4-4808-d61e-6f03dac40a6e",
        "colab": {
          "base_uri": "https://localhost:8080/",
          "height": 572,
          "referenced_widgets": [
            "9b01297ae1164ff2907bee4d8da29bf2",
            "17681165fc8f49f0819daaa4feb6b154",
            "10ee98c053e54f22903e4d7d9dd33cf4",
            "41ca1819ead842e6ba2823fec9727575",
            "57db75b6671d48d9ab098d012242e39c",
            "76eff6b7727c48e784fe97f6e998bd40",
            "c10a93cc232744049f55b544aa606100",
            "bcefea6391a34514a933b74a5a5ec9c1",
            "31d6a8ce4fcc4f18a5443ce3fa2851af",
            "ba139cdd3d864eeb9f264cdee2718ec3",
            "cd5b2597888d4265abe6f52ee678f8bc",
            "1348684a1b7b4829905328773539455c",
            "17b3404ba5a74236a0629a7e7669bbb6",
            "247fc0c0cc3140f1bf9b1774513ff07a",
            "9bf7cc2f70904cacbfd60e1986076701",
            "453938bdd24d4d28b0eefe8b5dd10304",
            "191b584d6ef04fe5835dea99906dde70",
            "019d9f18056348d3bcde91175f1315aa",
            "fce7e5a68233418fb4e38a0fc4bd4355",
            "9cc5202ffe3c4413aecc631c553a4ecb",
            "3c46691faceb4756b6cf425deb3942ad",
            "0fdab83a1af747ccb95263b2115fa574",
            "1f20108803034fef8d5cd6735af498ee",
            "4a8c423adc5c45d4973d5f4cb608eb38"
          ]
        }
      },
      "source": [
        "def get_weighted_popularity_of_material_by_user(trans):\n",
        "  size_groups = trans.groupby('chq_id').size()\n",
        "  trans['num_trans'] = trans.progress_apply(axis=1, func=lambda x: size_groups.loc[x['chq_id']])\n",
        "  clientid2num_trans = dict(trans[['client_id', 'num_trans']].drop_duplicates().values)\n",
        "\n",
        "  groups_material = trans.groupby('material')\n",
        "\n",
        "  material_by_on_average = {}\n",
        "  for material_id in tqdm(trans.material.unique()):\n",
        "    a = groups_material.get_group(material_id).groupby('client_id').size().mean()\n",
        "    material_by_on_average[material_id] = a\n",
        "  \n",
        "  groups = trans.groupby(['client_id', 'material'])\n",
        "  size_groups = groups.size().to_frame()\n",
        "  size_groups.reset_index(level=0, inplace=True)\n",
        "  size_groups.reset_index(level=0, inplace=True)\n",
        "\n",
        "  size_groups['weighted'] = size_groups.progress_apply(axis=1, func=lambda x: (x[0] / clientid2num_trans[x['client_id']]) / material_by_on_average.get(x['material'], None))\n",
        "  size_groups['material_weight'] = size_groups.apply(axis=1, func=lambda x: material_by_on_average.get(x['material'], None))\n",
        "  return size_groups\n",
        "\n",
        "\n",
        "df = get_weighted_popularity_of_material_by_user(trans.sample(frac=0.1))\n",
        "df.sort_values('weighted', ascending=False)"
      ],
      "execution_count": null,
      "outputs": [
        {
          "output_type": "display_data",
          "data": {
            "application/vnd.jupyter.widget-view+json": {
              "model_id": "9b01297ae1164ff2907bee4d8da29bf2",
              "version_minor": 0,
              "version_major": 2
            },
            "text/plain": [
              "HBox(children=(FloatProgress(value=0.0, max=3210941.0), HTML(value='')))"
            ]
          },
          "metadata": {
            "tags": []
          }
        },
        {
          "output_type": "stream",
          "text": [
            "\n"
          ],
          "name": "stdout"
        },
        {
          "output_type": "display_data",
          "data": {
            "application/vnd.jupyter.widget-view+json": {
              "model_id": "31d6a8ce4fcc4f18a5443ce3fa2851af",
              "version_minor": 0,
              "version_major": 2
            },
            "text/plain": [
              "HBox(children=(FloatProgress(value=0.0, max=80924.0), HTML(value='')))"
            ]
          },
          "metadata": {
            "tags": []
          }
        },
        {
          "output_type": "stream",
          "text": [
            "\n"
          ],
          "name": "stdout"
        },
        {
          "output_type": "display_data",
          "data": {
            "application/vnd.jupyter.widget-view+json": {
              "model_id": "191b584d6ef04fe5835dea99906dde70",
              "version_minor": 0,
              "version_major": 2
            },
            "text/plain": [
              "HBox(children=(FloatProgress(value=0.0, max=2832454.0), HTML(value='')))"
            ]
          },
          "metadata": {
            "tags": []
          }
        },
        {
          "output_type": "stream",
          "text": [
            "\n"
          ],
          "name": "stdout"
        },
        {
          "output_type": "execute_result",
          "data": {
            "text/html": [
              "<div>\n",
              "<style scoped>\n",
              "    .dataframe tbody tr th:only-of-type {\n",
              "        vertical-align: middle;\n",
              "    }\n",
              "\n",
              "    .dataframe tbody tr th {\n",
              "        vertical-align: top;\n",
              "    }\n",
              "\n",
              "    .dataframe thead th {\n",
              "        text-align: right;\n",
              "    }\n",
              "</style>\n",
              "<table border=\"1\" class=\"dataframe\">\n",
              "  <thead>\n",
              "    <tr style=\"text-align: right;\">\n",
              "      <th></th>\n",
              "      <th>material</th>\n",
              "      <th>client_id</th>\n",
              "      <th>0</th>\n",
              "      <th>weighted</th>\n",
              "      <th>material_weight</th>\n",
              "    </tr>\n",
              "  </thead>\n",
              "  <tbody>\n",
              "    <tr>\n",
              "      <th>119124</th>\n",
              "      <td>c8ac520562ba934dd67cbf0f060c4252</td>\n",
              "      <td>0b1b96c791f5779ad006171187b2d31e</td>\n",
              "      <td>68</td>\n",
              "      <td>43.757150</td>\n",
              "      <td>1.554032</td>\n",
              "    </tr>\n",
              "    <tr>\n",
              "      <th>739195</th>\n",
              "      <td>6278f48a43fb0a23036b3a11c92e726c</td>\n",
              "      <td>4341c3b1a1c9d78a7c27e4c11ec7eb2f</td>\n",
              "      <td>56</td>\n",
              "      <td>33.185130</td>\n",
              "      <td>1.687503</td>\n",
              "    </tr>\n",
              "    <tr>\n",
              "      <th>1738723</th>\n",
              "      <td>c8ac520562ba934dd67cbf0f060c4252</td>\n",
              "      <td>9e486ace04de5e3b2529d76d115dcbba</td>\n",
              "      <td>48</td>\n",
              "      <td>30.887400</td>\n",
              "      <td>1.554032</td>\n",
              "    </tr>\n",
              "    <tr>\n",
              "      <th>1495376</th>\n",
              "      <td>dae7d75b88843c9206161413df59e45b</td>\n",
              "      <td>885b34655c440af288c8cf29e1a13487</td>\n",
              "      <td>37</td>\n",
              "      <td>28.510274</td>\n",
              "      <td>1.297778</td>\n",
              "    </tr>\n",
              "    <tr>\n",
              "      <th>2131757</th>\n",
              "      <td>1212ff8ecf53aebef093ca8ae216db68</td>\n",
              "      <td>c1a54f2639e7b29099a11940e3dff4b0</td>\n",
              "      <td>48</td>\n",
              "      <td>27.508409</td>\n",
              "      <td>1.744921</td>\n",
              "    </tr>\n",
              "    <tr>\n",
              "      <th>...</th>\n",
              "      <td>...</td>\n",
              "      <td>...</td>\n",
              "      <td>...</td>\n",
              "      <td>...</td>\n",
              "      <td>...</td>\n",
              "    </tr>\n",
              "    <tr>\n",
              "      <th>246385</th>\n",
              "      <td>00dd66971e21a68bb052882103bec2a1</td>\n",
              "      <td>16abc7202df8f361a04faf8a9b137228</td>\n",
              "      <td>1</td>\n",
              "      <td>0.029514</td>\n",
              "      <td>5.647059</td>\n",
              "    </tr>\n",
              "    <tr>\n",
              "      <th>2116415</th>\n",
              "      <td>9b81cf0df5ce29339fb3b3215f001bd9</td>\n",
              "      <td>c008e0daa31499b90957f1b3c8952c51</td>\n",
              "      <td>1</td>\n",
              "      <td>0.028571</td>\n",
              "      <td>7.000000</td>\n",
              "    </tr>\n",
              "    <tr>\n",
              "      <th>1032205</th>\n",
              "      <td>b75147feae4cf8ec07fb5f2cef855def</td>\n",
              "      <td>5e6bcea5aa0e8d4f35ff5e0bff0746f4</td>\n",
              "      <td>1</td>\n",
              "      <td>0.023398</td>\n",
              "      <td>2.035147</td>\n",
              "    </tr>\n",
              "    <tr>\n",
              "      <th>1666013</th>\n",
              "      <td>00dd66971e21a68bb052882103bec2a1</td>\n",
              "      <td>977fa438981f88c766172173ff10bb58</td>\n",
              "      <td>1</td>\n",
              "      <td>0.019676</td>\n",
              "      <td>5.647059</td>\n",
              "    </tr>\n",
              "    <tr>\n",
              "      <th>2521004</th>\n",
              "      <td>0256c8bd930742622e3999a3f0e9e643</td>\n",
              "      <td>e3f84b5d7bb308db5beaa56345523f82</td>\n",
              "      <td>1</td>\n",
              "      <td>0.017316</td>\n",
              "      <td>8.250000</td>\n",
              "    </tr>\n",
              "  </tbody>\n",
              "</table>\n",
              "<p>2832454 rows × 5 columns</p>\n",
              "</div>"
            ],
            "text/plain": [
              "                                 material  ... material_weight\n",
              "119124   c8ac520562ba934dd67cbf0f060c4252  ...        1.554032\n",
              "739195   6278f48a43fb0a23036b3a11c92e726c  ...        1.687503\n",
              "1738723  c8ac520562ba934dd67cbf0f060c4252  ...        1.554032\n",
              "1495376  dae7d75b88843c9206161413df59e45b  ...        1.297778\n",
              "2131757  1212ff8ecf53aebef093ca8ae216db68  ...        1.744921\n",
              "...                                   ...  ...             ...\n",
              "246385   00dd66971e21a68bb052882103bec2a1  ...        5.647059\n",
              "2116415  9b81cf0df5ce29339fb3b3215f001bd9  ...        7.000000\n",
              "1032205  b75147feae4cf8ec07fb5f2cef855def  ...        2.035147\n",
              "1666013  00dd66971e21a68bb052882103bec2a1  ...        5.647059\n",
              "2521004  0256c8bd930742622e3999a3f0e9e643  ...        8.250000\n",
              "\n",
              "[2832454 rows x 5 columns]"
            ]
          },
          "metadata": {
            "tags": []
          },
          "execution_count": 51
        }
      ]
    },
    {
      "cell_type": "code",
      "metadata": {
        "id": "LH47a7M-D5Ef",
        "outputId": "135cf9d0-3451-42ac-a524-0fa957b7fc92",
        "colab": {
          "base_uri": "https://localhost:8080/",
          "height": 424
        }
      },
      "source": [
        "df.sort_values('material_weight')"
      ],
      "execution_count": null,
      "outputs": [
        {
          "output_type": "execute_result",
          "data": {
            "text/html": [
              "<div>\n",
              "<style scoped>\n",
              "    .dataframe tbody tr th:only-of-type {\n",
              "        vertical-align: middle;\n",
              "    }\n",
              "\n",
              "    .dataframe tbody tr th {\n",
              "        vertical-align: top;\n",
              "    }\n",
              "\n",
              "    .dataframe thead th {\n",
              "        text-align: right;\n",
              "    }\n",
              "</style>\n",
              "<table border=\"1\" class=\"dataframe\">\n",
              "  <thead>\n",
              "    <tr style=\"text-align: right;\">\n",
              "      <th></th>\n",
              "      <th>material</th>\n",
              "      <th>client_id</th>\n",
              "      <th>0</th>\n",
              "      <th>weighted</th>\n",
              "      <th>material_weight</th>\n",
              "    </tr>\n",
              "  </thead>\n",
              "  <tbody>\n",
              "    <tr>\n",
              "      <th>743939</th>\n",
              "      <td>de67d7aa29750ced1814c1f62c89ed56</td>\n",
              "      <td>439e840f34e596cc755cf3449da501af</td>\n",
              "      <td>1</td>\n",
              "      <td>0.500000</td>\n",
              "      <td>1.00</td>\n",
              "    </tr>\n",
              "    <tr>\n",
              "      <th>1303040</th>\n",
              "      <td>fe8650501d8ed62e0b761adba3bdeed6</td>\n",
              "      <td>76fd33b33a43eb8e5fe301e583577fe1</td>\n",
              "      <td>1</td>\n",
              "      <td>0.500000</td>\n",
              "      <td>1.00</td>\n",
              "    </tr>\n",
              "    <tr>\n",
              "      <th>1303034</th>\n",
              "      <td>a842425867b22c0d6b522570cb97a78c</td>\n",
              "      <td>76fd33b33a43eb8e5fe301e583577fe1</td>\n",
              "      <td>1</td>\n",
              "      <td>0.500000</td>\n",
              "      <td>1.00</td>\n",
              "    </tr>\n",
              "    <tr>\n",
              "      <th>1303033</th>\n",
              "      <td>a291a3aff7b2424b27c3288d29aa0c8e</td>\n",
              "      <td>76fd33b33a43eb8e5fe301e583577fe1</td>\n",
              "      <td>1</td>\n",
              "      <td>0.500000</td>\n",
              "      <td>1.00</td>\n",
              "    </tr>\n",
              "    <tr>\n",
              "      <th>2017865</th>\n",
              "      <td>bf2256650a157303c3fd95d80df49b0d</td>\n",
              "      <td>b75aefd8f77dae8548f73819d0fc9ae6</td>\n",
              "      <td>1</td>\n",
              "      <td>0.250000</td>\n",
              "      <td>1.00</td>\n",
              "    </tr>\n",
              "    <tr>\n",
              "      <th>...</th>\n",
              "      <td>...</td>\n",
              "      <td>...</td>\n",
              "      <td>...</td>\n",
              "      <td>...</td>\n",
              "      <td>...</td>\n",
              "    </tr>\n",
              "    <tr>\n",
              "      <th>2229668</th>\n",
              "      <td>0256c8bd930742622e3999a3f0e9e643</td>\n",
              "      <td>ca5e797c10d3723d25cfd5b2385f4c94</td>\n",
              "      <td>7</td>\n",
              "      <td>0.169697</td>\n",
              "      <td>8.25</td>\n",
              "    </tr>\n",
              "    <tr>\n",
              "      <th>887308</th>\n",
              "      <td>0256c8bd930742622e3999a3f0e9e643</td>\n",
              "      <td>51173b64400d7d931e5bf02f3f9a31b8</td>\n",
              "      <td>3</td>\n",
              "      <td>0.072727</td>\n",
              "      <td>8.25</td>\n",
              "    </tr>\n",
              "    <tr>\n",
              "      <th>2521004</th>\n",
              "      <td>0256c8bd930742622e3999a3f0e9e643</td>\n",
              "      <td>e3f84b5d7bb308db5beaa56345523f82</td>\n",
              "      <td>1</td>\n",
              "      <td>0.017316</td>\n",
              "      <td>8.25</td>\n",
              "    </tr>\n",
              "    <tr>\n",
              "      <th>1573364</th>\n",
              "      <td>0256c8bd930742622e3999a3f0e9e643</td>\n",
              "      <td>8f5f1be78aa8472a364e2845bc3adcbe</td>\n",
              "      <td>22</td>\n",
              "      <td>0.444444</td>\n",
              "      <td>8.25</td>\n",
              "    </tr>\n",
              "    <tr>\n",
              "      <th>2334989</th>\n",
              "      <td>dad1cc8ae3d44dc637b307c1fb293371</td>\n",
              "      <td>d37ca7d4bccc8b55a52651f7a9369d0a</td>\n",
              "      <td>11</td>\n",
              "      <td>0.250000</td>\n",
              "      <td>11.00</td>\n",
              "    </tr>\n",
              "  </tbody>\n",
              "</table>\n",
              "<p>2832454 rows × 5 columns</p>\n",
              "</div>"
            ],
            "text/plain": [
              "                                 material  ... material_weight\n",
              "743939   de67d7aa29750ced1814c1f62c89ed56  ...            1.00\n",
              "1303040  fe8650501d8ed62e0b761adba3bdeed6  ...            1.00\n",
              "1303034  a842425867b22c0d6b522570cb97a78c  ...            1.00\n",
              "1303033  a291a3aff7b2424b27c3288d29aa0c8e  ...            1.00\n",
              "2017865  bf2256650a157303c3fd95d80df49b0d  ...            1.00\n",
              "...                                   ...  ...             ...\n",
              "2229668  0256c8bd930742622e3999a3f0e9e643  ...            8.25\n",
              "887308   0256c8bd930742622e3999a3f0e9e643  ...            8.25\n",
              "2521004  0256c8bd930742622e3999a3f0e9e643  ...            8.25\n",
              "1573364  0256c8bd930742622e3999a3f0e9e643  ...            8.25\n",
              "2334989  dad1cc8ae3d44dc637b307c1fb293371  ...           11.00\n",
              "\n",
              "[2832454 rows x 5 columns]"
            ]
          },
          "metadata": {
            "tags": []
          },
          "execution_count": 52
        }
      ]
    },
    {
      "cell_type": "code",
      "metadata": {
        "id": "UISAVxTkD9v0",
        "outputId": "43619641-a21d-4f49-bf87-84e33d25471d",
        "colab": {
          "base_uri": "https://localhost:8080/",
          "height": 353
        }
      },
      "source": [
        "plt.rcParams.update({'font.size': 12})\n",
        "\n",
        "client_id = '3ca33bd5a3ed90e1d6bf5e0fd1ec2a41'\n",
        "\n",
        "df4plot = {'chq_date': [], 'sales_sum': [], 'is_fav_mat_present': [], 'client_id': []}\n",
        "_df = trans[trans['client_id'] == client_id]\n",
        "favorite_material = df[df['client_id'] == client_id].sort_values('material_weight').iloc[-1]['material']\n",
        "groups = _df.groupby('chq_id')\n",
        "\n",
        "for chq_id in _df.sort_values('chq_date')['chq_id'].unique():\n",
        "  group = groups.get_group(chq_id)\n",
        "  date = group['chq_date'].values[0]\n",
        "  sales_sum = group['sales_sum'].sum()\n",
        "  \n",
        "  df4plot['is_fav_mat_present'].append((group['material'] == favorite_material).any())\n",
        "  df4plot['chq_date'].append(date)\n",
        "  df4plot['sales_sum'].append(sales_sum)\n",
        "  df4plot['client_id'].append(client_id)\n",
        "\n",
        "\n",
        "plt.figure(num=None, figsize=(7, 3), dpi=100, facecolor='w', edgecolor='k')\n",
        "ax = plt.gca()\n",
        "ax.plot(df4plot['chq_date'], df4plot['sales_sum'])\n",
        "ax.scatter(df4plot['chq_date'], df4plot['sales_sum'], c=['green' if isfav == True else 'red' for isfav in df4plot['is_fav_mat_present']])\n",
        "ax.set_ylabel('Sum in rubles of check')\n",
        "ax.set_title('Green - favorite product in the basket.\\nRed - no favorite product in the basket.')"
      ],
      "execution_count": null,
      "outputs": [
        {
          "output_type": "execute_result",
          "data": {
            "text/plain": [
              "Text(0.5, 1.0, 'Green - favorite product in the basket.\\nRed - no favorite product in the basket.')"
            ]
          },
          "metadata": {
            "tags": []
          },
          "execution_count": 53
        },
        {
          "output_type": "display_data",
          "data": {
            "image/png": "[encoded data removed]",
            "text/plain": [
              "<Figure size 700x300 with 1 Axes>"
            ]
          },
          "metadata": {
            "tags": []
          }
        }
      ]
    },
    {
      "cell_type": "markdown",
      "metadata": {
        "id": "Dxd60pbjEAeT"
      },
      "source": [
        "## Clients"
      ]
    },
    {
      "cell_type": "code",
      "metadata": {
        "id": "Ma-5y22nsBc2",
        "outputId": "265c7fdc-e3d9-49e1-a3e0-3ee843b33898",
        "colab": {
          "base_uri": "https://localhost:8080/",
          "height": 343
        }
      },
      "source": [
        "clients.head(10)"
      ],
      "execution_count": null,
      "outputs": [
        {
          "output_type": "execute_result",
          "data": {
            "text/html": [
              "<div>\n",
              "<style scoped>\n",
              "    .dataframe tbody tr th:only-of-type {\n",
              "        vertical-align: middle;\n",
              "    }\n",
              "\n",
              "    .dataframe tbody tr th {\n",
              "        vertical-align: top;\n",
              "    }\n",
              "\n",
              "    .dataframe thead th {\n",
              "        text-align: right;\n",
              "    }\n",
              "</style>\n",
              "<table border=\"1\" class=\"dataframe\">\n",
              "  <thead>\n",
              "    <tr style=\"text-align: right;\">\n",
              "      <th></th>\n",
              "      <th>client_id</th>\n",
              "      <th>gender</th>\n",
              "      <th>city</th>\n",
              "      <th>birthyear</th>\n",
              "    </tr>\n",
              "  </thead>\n",
              "  <tbody>\n",
              "    <tr>\n",
              "      <th>0</th>\n",
              "      <td>1a47d62dddacc03fe90c15652f7ae1a4</td>\n",
              "      <td>M</td>\n",
              "      <td>Other</td>\n",
              "      <td>1990.0</td>\n",
              "    </tr>\n",
              "    <tr>\n",
              "      <th>1</th>\n",
              "      <td>9cb909f701d25d548e953bff81192b56</td>\n",
              "      <td>F</td>\n",
              "      <td>Other</td>\n",
              "      <td>1969.0</td>\n",
              "    </tr>\n",
              "    <tr>\n",
              "      <th>2</th>\n",
              "      <td>d5da0f5b841b4f83383202807995027a</td>\n",
              "      <td>M</td>\n",
              "      <td>Other</td>\n",
              "      <td>1976.0</td>\n",
              "    </tr>\n",
              "    <tr>\n",
              "      <th>3</th>\n",
              "      <td>13ed7f16810b17b8cee6de834ac79a48</td>\n",
              "      <td>F</td>\n",
              "      <td>Moscow</td>\n",
              "      <td>1966.0</td>\n",
              "    </tr>\n",
              "    <tr>\n",
              "      <th>4</th>\n",
              "      <td>215fe3ea7d5bf0415e5504e2a7f33551</td>\n",
              "      <td>F</td>\n",
              "      <td>Other</td>\n",
              "      <td>1988.0</td>\n",
              "    </tr>\n",
              "    <tr>\n",
              "      <th>5</th>\n",
              "      <td>f37a3565c6b19888c6a70fb606411577</td>\n",
              "      <td>F</td>\n",
              "      <td>Moscow</td>\n",
              "      <td>1987.0</td>\n",
              "    </tr>\n",
              "    <tr>\n",
              "      <th>6</th>\n",
              "      <td>956875adb8eb120e9121a68e2ccac61d</td>\n",
              "      <td>F</td>\n",
              "      <td>Other</td>\n",
              "      <td>1997.0</td>\n",
              "    </tr>\n",
              "    <tr>\n",
              "      <th>7</th>\n",
              "      <td>6aa7be76ebbe2a18ca0de9a9bc133970</td>\n",
              "      <td>F</td>\n",
              "      <td>Other</td>\n",
              "      <td>1948.0</td>\n",
              "    </tr>\n",
              "    <tr>\n",
              "      <th>8</th>\n",
              "      <td>e2f21dcfe01938a1bf74dc993715c22f</td>\n",
              "      <td>F</td>\n",
              "      <td>Other</td>\n",
              "      <td>1984.0</td>\n",
              "    </tr>\n",
              "    <tr>\n",
              "      <th>9</th>\n",
              "      <td>d89495d527574eb62ef276bca91c2e80</td>\n",
              "      <td>F</td>\n",
              "      <td>Other</td>\n",
              "      <td>1952.0</td>\n",
              "    </tr>\n",
              "  </tbody>\n",
              "</table>\n",
              "</div>"
            ],
            "text/plain": [
              "                          client_id gender    city  birthyear\n",
              "0  1a47d62dddacc03fe90c15652f7ae1a4      M   Other     1990.0\n",
              "1  9cb909f701d25d548e953bff81192b56      F   Other     1969.0\n",
              "2  d5da0f5b841b4f83383202807995027a      M   Other     1976.0\n",
              "3  13ed7f16810b17b8cee6de834ac79a48      F  Moscow     1966.0\n",
              "4  215fe3ea7d5bf0415e5504e2a7f33551      F   Other     1988.0\n",
              "5  f37a3565c6b19888c6a70fb606411577      F  Moscow     1987.0\n",
              "6  956875adb8eb120e9121a68e2ccac61d      F   Other     1997.0\n",
              "7  6aa7be76ebbe2a18ca0de9a9bc133970      F   Other     1948.0\n",
              "8  e2f21dcfe01938a1bf74dc993715c22f      F   Other     1984.0\n",
              "9  d89495d527574eb62ef276bca91c2e80      F   Other     1952.0"
            ]
          },
          "metadata": {
            "tags": []
          },
          "execution_count": 9
        }
      ]
    },
    {
      "cell_type": "markdown",
      "metadata": {
        "id": "mEWh-LNLEjOR"
      },
      "source": [
        "99995 - клиентов"
      ]
    },
    {
      "cell_type": "code",
      "metadata": {
        "id": "ttdJkCRbEUSJ",
        "outputId": "cd1e4c5c-16a5-49e1-9c8e-3e0eb3d276a8",
        "colab": {
          "base_uri": "https://localhost:8080/",
          "height": 87
        }
      },
      "source": [
        "clients.city.value_counts()"
      ],
      "execution_count": null,
      "outputs": [
        {
          "output_type": "execute_result",
          "data": {
            "text/plain": [
              "Other             81207\n",
              "St. Petersburg    13374\n",
              "Moscow             5414\n",
              "Name: city, dtype: int64"
            ]
          },
          "metadata": {
            "tags": []
          },
          "execution_count": 30
        }
      ]
    },
    {
      "cell_type": "markdown",
      "metadata": {
        "id": "AmzwzbVCEUnx"
      },
      "source": [
        "## Materials"
      ]
    },
    {
      "cell_type": "code",
      "metadata": {
        "id": "AVnWm48fsDE9",
        "outputId": "23424372-53d7-478d-a5f7-e1fc6e2eec1e",
        "colab": {
          "base_uri": "https://localhost:8080/",
          "height": 363
        }
      },
      "source": [
        "materials.head(10)"
      ],
      "execution_count": null,
      "outputs": [
        {
          "output_type": "execute_result",
          "data": {
            "text/html": [
              "<div>\n",
              "<style scoped>\n",
              "    .dataframe tbody tr th:only-of-type {\n",
              "        vertical-align: middle;\n",
              "    }\n",
              "\n",
              "    .dataframe tbody tr th {\n",
              "        vertical-align: top;\n",
              "    }\n",
              "\n",
              "    .dataframe thead th {\n",
              "        text-align: right;\n",
              "    }\n",
              "</style>\n",
              "<table border=\"1\" class=\"dataframe\">\n",
              "  <thead>\n",
              "    <tr style=\"text-align: right;\">\n",
              "      <th></th>\n",
              "      <th>material</th>\n",
              "      <th>hier_level_1</th>\n",
              "      <th>hier_level_2</th>\n",
              "      <th>hier_level_3</th>\n",
              "      <th>hier_level_4</th>\n",
              "      <th>vendor</th>\n",
              "      <th>is_private_label</th>\n",
              "      <th>is_alco</th>\n",
              "    </tr>\n",
              "  </thead>\n",
              "  <tbody>\n",
              "    <tr>\n",
              "      <th>0</th>\n",
              "      <td>35cbdf61de9e19c8b417327aaef14c88</td>\n",
              "      <td>NONFOOD</td>\n",
              "      <td>ea5d2f1c4608232e07d3aa3d998e5135</td>\n",
              "      <td>99cad265a1768cc2dd013f0e740300ae</td>\n",
              "      <td>9eed45f71360b4b1e2590637467220e5</td>\n",
              "      <td>212a38db0ddcd009f1e164cc8483485c</td>\n",
              "      <td>0</td>\n",
              "      <td>0</td>\n",
              "    </tr>\n",
              "    <tr>\n",
              "      <th>1</th>\n",
              "      <td>c0b0bf24d4ec71da3d304f761ec555d8</td>\n",
              "      <td>NONFOOD</td>\n",
              "      <td>ea5d2f1c4608232e07d3aa3d998e5135</td>\n",
              "      <td>99cad265a1768cc2dd013f0e740300ae</td>\n",
              "      <td>de2eb747e0896c050905a6b635ab800a</td>\n",
              "      <td>9b0b6c7d55413ad3b67761b7b125b534</td>\n",
              "      <td>0</td>\n",
              "      <td>0</td>\n",
              "    </tr>\n",
              "    <tr>\n",
              "      <th>2</th>\n",
              "      <td>f0fc5e654a81a7c4b8ba8d7c26546e14</td>\n",
              "      <td>NONFOOD</td>\n",
              "      <td>ea5d2f1c4608232e07d3aa3d998e5135</td>\n",
              "      <td>99cad265a1768cc2dd013f0e740300ae</td>\n",
              "      <td>8a969031832c535daf96e0c2aed8e814</td>\n",
              "      <td>9b0b6c7d55413ad3b67761b7b125b534</td>\n",
              "      <td>0</td>\n",
              "      <td>0</td>\n",
              "    </tr>\n",
              "    <tr>\n",
              "      <th>3</th>\n",
              "      <td>353693e64fb5f9e2d29746d7fe6edf1e</td>\n",
              "      <td>NONFOOD</td>\n",
              "      <td>ea5d2f1c4608232e07d3aa3d998e5135</td>\n",
              "      <td>b58f7d184743106a8a66028b7a28937c</td>\n",
              "      <td>4c0dc012ebb679a18b244c53c6f59b5a</td>\n",
              "      <td>a3c8be149d718771e892619bd310b961</td>\n",
              "      <td>0</td>\n",
              "      <td>0</td>\n",
              "    </tr>\n",
              "    <tr>\n",
              "      <th>4</th>\n",
              "      <td>5d9e0b4302ce95448cae72165ff4cf5b</td>\n",
              "      <td>NONFOOD</td>\n",
              "      <td>ea5d2f1c4608232e07d3aa3d998e5135</td>\n",
              "      <td>b58f7d184743106a8a66028b7a28937c</td>\n",
              "      <td>4c0dc012ebb679a18b244c53c6f59b5a</td>\n",
              "      <td>a3c8be149d718771e892619bd310b961</td>\n",
              "      <td>0</td>\n",
              "      <td>0</td>\n",
              "    </tr>\n",
              "    <tr>\n",
              "      <th>5</th>\n",
              "      <td>69374dfb9642c83bd073e1a913af6609</td>\n",
              "      <td>NONFOOD</td>\n",
              "      <td>d2ddea18f00665ce8623e36bd4e3c7c5</td>\n",
              "      <td>f52db9f7c0ae7017ee41f63c2a7353bc</td>\n",
              "      <td>ba4078a37e1d6d97a5d3082b255ac3eb</td>\n",
              "      <td>09c62b77ef54b918fb18662f7f25fc78</td>\n",
              "      <td>0</td>\n",
              "      <td>0</td>\n",
              "    </tr>\n",
              "    <tr>\n",
              "      <th>6</th>\n",
              "      <td>f2b2348860378f8b62f8f873bd2ce37e</td>\n",
              "      <td>NONFOOD</td>\n",
              "      <td>ea5d2f1c4608232e07d3aa3d998e5135</td>\n",
              "      <td>99cad265a1768cc2dd013f0e740300ae</td>\n",
              "      <td>9eed45f71360b4b1e2590637467220e5</td>\n",
              "      <td>212a38db0ddcd009f1e164cc8483485c</td>\n",
              "      <td>0</td>\n",
              "      <td>0</td>\n",
              "    </tr>\n",
              "    <tr>\n",
              "      <th>7</th>\n",
              "      <td>70505b318edbe5e129bfa15f6c0d85d2</td>\n",
              "      <td>NONFOOD</td>\n",
              "      <td>03afdbd66e7929b125f8597834fa83a4</td>\n",
              "      <td>1dffefa65e27e7187c6c052be0ae02b0</td>\n",
              "      <td>1558ced753948e9206bb1cc3b13026d0</td>\n",
              "      <td>8d69446f1ef3d19eb21f09cce70c08f2</td>\n",
              "      <td>0</td>\n",
              "      <td>0</td>\n",
              "    </tr>\n",
              "    <tr>\n",
              "      <th>8</th>\n",
              "      <td>8ffb9236b122c7d5d276054f979741a4</td>\n",
              "      <td>NONFOOD</td>\n",
              "      <td>03afdbd66e7929b125f8597834fa83a4</td>\n",
              "      <td>90e69a6d2ad189b222ac1998abe63aea</td>\n",
              "      <td>343e5c290ef63e64466846bc156d05d0</td>\n",
              "      <td>2ce8cf84d68ae72e62ea72664c8f1daf</td>\n",
              "      <td>0</td>\n",
              "      <td>0</td>\n",
              "    </tr>\n",
              "    <tr>\n",
              "      <th>9</th>\n",
              "      <td>c83f771c08a6196d11156e9cc8eb7429</td>\n",
              "      <td>NONFOOD</td>\n",
              "      <td>ea5d2f1c4608232e07d3aa3d998e5135</td>\n",
              "      <td>828b1eb30921659e22e53a9edc92c4c4</td>\n",
              "      <td>b03838d2abc4863bc2862f7d4ea5aad3</td>\n",
              "      <td>212a38db0ddcd009f1e164cc8483485c</td>\n",
              "      <td>0</td>\n",
              "      <td>0</td>\n",
              "    </tr>\n",
              "  </tbody>\n",
              "</table>\n",
              "</div>"
            ],
            "text/plain": [
              "                           material hier_level_1  ... is_private_label is_alco\n",
              "0  35cbdf61de9e19c8b417327aaef14c88      NONFOOD  ...                0       0\n",
              "1  c0b0bf24d4ec71da3d304f761ec555d8      NONFOOD  ...                0       0\n",
              "2  f0fc5e654a81a7c4b8ba8d7c26546e14      NONFOOD  ...                0       0\n",
              "3  353693e64fb5f9e2d29746d7fe6edf1e      NONFOOD  ...                0       0\n",
              "4  5d9e0b4302ce95448cae72165ff4cf5b      NONFOOD  ...                0       0\n",
              "5  69374dfb9642c83bd073e1a913af6609      NONFOOD  ...                0       0\n",
              "6  f2b2348860378f8b62f8f873bd2ce37e      NONFOOD  ...                0       0\n",
              "7  70505b318edbe5e129bfa15f6c0d85d2      NONFOOD  ...                0       0\n",
              "8  8ffb9236b122c7d5d276054f979741a4      NONFOOD  ...                0       0\n",
              "9  c83f771c08a6196d11156e9cc8eb7429      NONFOOD  ...                0       0\n",
              "\n",
              "[10 rows x 8 columns]"
            ]
          },
          "metadata": {
            "tags": []
          },
          "execution_count": 10
        }
      ]
    },
    {
      "cell_type": "markdown",
      "metadata": {
        "id": "-xlx03YEFSRo"
      },
      "source": [
        "105609 наименований"
      ]
    },
    {
      "cell_type": "code",
      "metadata": {
        "id": "qkri_gZ01a4o"
      },
      "source": [
        "k = 1"
      ],
      "execution_count": null,
      "outputs": []
    },
    {
      "cell_type": "code",
      "metadata": {
        "id": "5g4YkrF_2qOT"
      },
      "source": [
        "materials['hier_level_4'].unique().shape"
      ],
      "execution_count": null,
      "outputs": []
    },
    {
      "cell_type": "code",
      "metadata": {
        "id": "ga6VxiI72Ls3",
        "outputId": "dc62eadc-7637-46ec-def9-292f3cbd8d2e",
        "colab": {
          "base_uri": "https://localhost:8080/",
          "height": 34
        }
      },
      "source": [
        "materials['hier_level_4'].unique().shape"
      ],
      "execution_count": null,
      "outputs": [
        {
          "output_type": "execute_result",
          "data": {
            "text/plain": [
              "(2006,)"
            ]
          },
          "metadata": {
            "tags": []
          },
          "execution_count": 95
        }
      ]
    },
    {
      "cell_type": "code",
      "metadata": {
        "id": "YqYm15kJFDWF",
        "outputId": "f2d44d37-094a-418d-92a7-d9c60ce48065",
        "colab": {
          "base_uri": "https://localhost:8080/",
          "height": 1000
        }
      },
      "source": [
        "for k in range(100):\n",
        "  print(materials.loc[materials.hier_level_4 == materials['hier_level_4'].unique()[k]].shape[0])"
      ],
      "execution_count": null,
      "outputs": [
        {
          "output_type": "stream",
          "text": [
            "49\n",
            "58\n",
            "45\n",
            "165\n",
            "79\n",
            "16\n",
            "18\n",
            "47\n",
            "226\n",
            "11\n",
            "52\n",
            "71\n",
            "143\n",
            "246\n",
            "58\n",
            "31\n",
            "10\n",
            "75\n",
            "126\n",
            "112\n",
            "217\n",
            "124\n",
            "253\n",
            "127\n",
            "366\n",
            "335\n",
            "244\n",
            "322\n",
            "296\n",
            "292\n",
            "121\n",
            "197\n",
            "258\n",
            "102\n",
            "384\n",
            "26\n",
            "196\n",
            "407\n",
            "624\n",
            "61\n",
            "756\n",
            "90\n",
            "198\n",
            "716\n",
            "787\n",
            "248\n",
            "2\n",
            "14\n",
            "76\n",
            "81\n",
            "33\n",
            "123\n",
            "233\n",
            "375\n",
            "161\n",
            "47\n",
            "6\n",
            "9\n",
            "102\n",
            "70\n",
            "65\n",
            "99\n",
            "249\n",
            "126\n",
            "42\n",
            "54\n",
            "71\n",
            "110\n",
            "350\n",
            "824\n",
            "37\n",
            "252\n",
            "425\n",
            "77\n",
            "231\n",
            "224\n",
            "28\n",
            "212\n",
            "49\n",
            "61\n",
            "277\n",
            "29\n",
            "82\n",
            "350\n",
            "234\n",
            "626\n",
            "189\n",
            "184\n",
            "170\n",
            "40\n",
            "140\n",
            "271\n",
            "285\n",
            "250\n",
            "132\n",
            "111\n",
            "126\n",
            "55\n",
            "68\n",
            "522\n"
          ],
          "name": "stdout"
        }
      ]
    },
    {
      "cell_type": "code",
      "metadata": {
        "id": "daqsiIQI3ami",
        "outputId": "c194639e-6f67-4d70-c546-98822bc606a4",
        "colab": {
          "base_uri": "https://localhost:8080/",
          "height": 422
        }
      },
      "source": [
        "materials"
      ],
      "execution_count": null,
      "outputs": [
        {
          "output_type": "execute_result",
          "data": {
            "text/html": [
              "<div>\n",
              "<style scoped>\n",
              "    .dataframe tbody tr th:only-of-type {\n",
              "        vertical-align: middle;\n",
              "    }\n",
              "\n",
              "    .dataframe tbody tr th {\n",
              "        vertical-align: top;\n",
              "    }\n",
              "\n",
              "    .dataframe thead th {\n",
              "        text-align: right;\n",
              "    }\n",
              "</style>\n",
              "<table border=\"1\" class=\"dataframe\">\n",
              "  <thead>\n",
              "    <tr style=\"text-align: right;\">\n",
              "      <th></th>\n",
              "      <th>material</th>\n",
              "      <th>hier_level_1</th>\n",
              "      <th>hier_level_2</th>\n",
              "      <th>hier_level_3</th>\n",
              "      <th>hier_level_4</th>\n",
              "      <th>vendor</th>\n",
              "      <th>is_private_label</th>\n",
              "      <th>is_alco</th>\n",
              "    </tr>\n",
              "  </thead>\n",
              "  <tbody>\n",
              "    <tr>\n",
              "      <th>0</th>\n",
              "      <td>35cbdf61de9e19c8b417327aaef14c88</td>\n",
              "      <td>NONFOOD</td>\n",
              "      <td>ea5d2f1c4608232e07d3aa3d998e5135</td>\n",
              "      <td>99cad265a1768cc2dd013f0e740300ae</td>\n",
              "      <td>9eed45f71360b4b1e2590637467220e5</td>\n",
              "      <td>212a38db0ddcd009f1e164cc8483485c</td>\n",
              "      <td>0</td>\n",
              "      <td>0</td>\n",
              "    </tr>\n",
              "    <tr>\n",
              "      <th>1</th>\n",
              "      <td>c0b0bf24d4ec71da3d304f761ec555d8</td>\n",
              "      <td>NONFOOD</td>\n",
              "      <td>ea5d2f1c4608232e07d3aa3d998e5135</td>\n",
              "      <td>99cad265a1768cc2dd013f0e740300ae</td>\n",
              "      <td>de2eb747e0896c050905a6b635ab800a</td>\n",
              "      <td>9b0b6c7d55413ad3b67761b7b125b534</td>\n",
              "      <td>0</td>\n",
              "      <td>0</td>\n",
              "    </tr>\n",
              "    <tr>\n",
              "      <th>2</th>\n",
              "      <td>f0fc5e654a81a7c4b8ba8d7c26546e14</td>\n",
              "      <td>NONFOOD</td>\n",
              "      <td>ea5d2f1c4608232e07d3aa3d998e5135</td>\n",
              "      <td>99cad265a1768cc2dd013f0e740300ae</td>\n",
              "      <td>8a969031832c535daf96e0c2aed8e814</td>\n",
              "      <td>9b0b6c7d55413ad3b67761b7b125b534</td>\n",
              "      <td>0</td>\n",
              "      <td>0</td>\n",
              "    </tr>\n",
              "    <tr>\n",
              "      <th>3</th>\n",
              "      <td>353693e64fb5f9e2d29746d7fe6edf1e</td>\n",
              "      <td>NONFOOD</td>\n",
              "      <td>ea5d2f1c4608232e07d3aa3d998e5135</td>\n",
              "      <td>b58f7d184743106a8a66028b7a28937c</td>\n",
              "      <td>4c0dc012ebb679a18b244c53c6f59b5a</td>\n",
              "      <td>a3c8be149d718771e892619bd310b961</td>\n",
              "      <td>0</td>\n",
              "      <td>0</td>\n",
              "    </tr>\n",
              "    <tr>\n",
              "      <th>4</th>\n",
              "      <td>5d9e0b4302ce95448cae72165ff4cf5b</td>\n",
              "      <td>NONFOOD</td>\n",
              "      <td>ea5d2f1c4608232e07d3aa3d998e5135</td>\n",
              "      <td>b58f7d184743106a8a66028b7a28937c</td>\n",
              "      <td>4c0dc012ebb679a18b244c53c6f59b5a</td>\n",
              "      <td>a3c8be149d718771e892619bd310b961</td>\n",
              "      <td>0</td>\n",
              "      <td>0</td>\n",
              "    </tr>\n",
              "    <tr>\n",
              "      <th>...</th>\n",
              "      <td>...</td>\n",
              "      <td>...</td>\n",
              "      <td>...</td>\n",
              "      <td>...</td>\n",
              "      <td>...</td>\n",
              "      <td>...</td>\n",
              "      <td>...</td>\n",
              "      <td>...</td>\n",
              "    </tr>\n",
              "    <tr>\n",
              "      <th>105604</th>\n",
              "      <td>feeddbacd9eed3bac85b1571ac79e40e</td>\n",
              "      <td>NONFOOD</td>\n",
              "      <td>3295c76acbf4caaed33c36b1b5fc2cb1</td>\n",
              "      <td>11704817e347269b7254e744b5e22dac</td>\n",
              "      <td>e47e165040e2914783a451509bbc8180</td>\n",
              "      <td>8ca0d8745f91fb71551be26b1ca854f4</td>\n",
              "      <td>0</td>\n",
              "      <td>0</td>\n",
              "    </tr>\n",
              "    <tr>\n",
              "      <th>105605</th>\n",
              "      <td>e218c4c3676927e53b95a12ffe9e721a</td>\n",
              "      <td>FOOD</td>\n",
              "      <td>02e74f10e0327ad868d138f2b4fdd6f0</td>\n",
              "      <td>df0e09d6f25a15a815563df9827f48fa</td>\n",
              "      <td>a03ddfb4b641e98de3223765162217c3</td>\n",
              "      <td>e3319f2f4767af113d82174f662f2d4e</td>\n",
              "      <td>1</td>\n",
              "      <td>1</td>\n",
              "    </tr>\n",
              "    <tr>\n",
              "      <th>105606</th>\n",
              "      <td>9a5e2e34d8406616f5981868b4576444</td>\n",
              "      <td>NONFOOD</td>\n",
              "      <td>fc490ca45c00b1249bbe3554a4fdf6fb</td>\n",
              "      <td>865bf46435bd84fa5d89f64cf3ba7347</td>\n",
              "      <td>e2a75db437bee7d34615fccf32d7a464</td>\n",
              "      <td>546614030cdbddcae3de351852962759</td>\n",
              "      <td>0</td>\n",
              "      <td>0</td>\n",
              "    </tr>\n",
              "    <tr>\n",
              "      <th>105607</th>\n",
              "      <td>d208910eb82fa1f57684f793f93521a4</td>\n",
              "      <td>NONFOOD</td>\n",
              "      <td>ea5d2f1c4608232e07d3aa3d998e5135</td>\n",
              "      <td>90365351ccc7437a1309dc64e4db32a3</td>\n",
              "      <td>ea9cffc9bd2bf8a0fb128d223f6a4282</td>\n",
              "      <td>7f1dbcf6ab15c23093508627ca12b8b1</td>\n",
              "      <td>0</td>\n",
              "      <td>0</td>\n",
              "    </tr>\n",
              "    <tr>\n",
              "      <th>105608</th>\n",
              "      <td>ac6bf06bbda21e48809e734c1f6fa010</td>\n",
              "      <td>NONFOOD</td>\n",
              "      <td>ea5d2f1c4608232e07d3aa3d998e5135</td>\n",
              "      <td>90365351ccc7437a1309dc64e4db32a3</td>\n",
              "      <td>65415da77b0f2c4d59897a3c1d7130f5</td>\n",
              "      <td>7f1dbcf6ab15c23093508627ca12b8b1</td>\n",
              "      <td>0</td>\n",
              "      <td>0</td>\n",
              "    </tr>\n",
              "  </tbody>\n",
              "</table>\n",
              "<p>105609 rows × 8 columns</p>\n",
              "</div>"
            ],
            "text/plain": [
              "                                material  ... is_alco\n",
              "0       35cbdf61de9e19c8b417327aaef14c88  ...       0\n",
              "1       c0b0bf24d4ec71da3d304f761ec555d8  ...       0\n",
              "2       f0fc5e654a81a7c4b8ba8d7c26546e14  ...       0\n",
              "3       353693e64fb5f9e2d29746d7fe6edf1e  ...       0\n",
              "4       5d9e0b4302ce95448cae72165ff4cf5b  ...       0\n",
              "...                                  ...  ...     ...\n",
              "105604  feeddbacd9eed3bac85b1571ac79e40e  ...       0\n",
              "105605  e218c4c3676927e53b95a12ffe9e721a  ...       1\n",
              "105606  9a5e2e34d8406616f5981868b4576444  ...       0\n",
              "105607  d208910eb82fa1f57684f793f93521a4  ...       0\n",
              "105608  ac6bf06bbda21e48809e734c1f6fa010  ...       0\n",
              "\n",
              "[105609 rows x 8 columns]"
            ]
          },
          "metadata": {
            "tags": []
          },
          "execution_count": 98
        }
      ]
    },
    {
      "cell_type": "code",
      "metadata": {
        "id": "ypHO2hiO3V5P",
        "outputId": "eb07ce6b-f4ef-453e-d348-26f73f1c7f8d",
        "colab": {
          "base_uri": "https://localhost:8080/",
          "height": 245
        }
      },
      "source": [
        "materials.loc[(materials.hier_level_4 == materials['hier_level_4'][k]) & (materials.vendor == '212a38db0ddcd009f1e164cc8483485c')]"
      ],
      "execution_count": null,
      "outputs": [
        {
          "output_type": "execute_result",
          "data": {
            "text/html": [
              "<div>\n",
              "<style scoped>\n",
              "    .dataframe tbody tr th:only-of-type {\n",
              "        vertical-align: middle;\n",
              "    }\n",
              "\n",
              "    .dataframe tbody tr th {\n",
              "        vertical-align: top;\n",
              "    }\n",
              "\n",
              "    .dataframe thead th {\n",
              "        text-align: right;\n",
              "    }\n",
              "</style>\n",
              "<table border=\"1\" class=\"dataframe\">\n",
              "  <thead>\n",
              "    <tr style=\"text-align: right;\">\n",
              "      <th></th>\n",
              "      <th>material</th>\n",
              "      <th>hier_level_1</th>\n",
              "      <th>hier_level_2</th>\n",
              "      <th>hier_level_3</th>\n",
              "      <th>hier_level_4</th>\n",
              "      <th>vendor</th>\n",
              "      <th>is_private_label</th>\n",
              "      <th>is_alco</th>\n",
              "    </tr>\n",
              "  </thead>\n",
              "  <tbody>\n",
              "    <tr>\n",
              "      <th>0</th>\n",
              "      <td>35cbdf61de9e19c8b417327aaef14c88</td>\n",
              "      <td>NONFOOD</td>\n",
              "      <td>ea5d2f1c4608232e07d3aa3d998e5135</td>\n",
              "      <td>99cad265a1768cc2dd013f0e740300ae</td>\n",
              "      <td>9eed45f71360b4b1e2590637467220e5</td>\n",
              "      <td>212a38db0ddcd009f1e164cc8483485c</td>\n",
              "      <td>0</td>\n",
              "      <td>0</td>\n",
              "    </tr>\n",
              "    <tr>\n",
              "      <th>6</th>\n",
              "      <td>f2b2348860378f8b62f8f873bd2ce37e</td>\n",
              "      <td>NONFOOD</td>\n",
              "      <td>ea5d2f1c4608232e07d3aa3d998e5135</td>\n",
              "      <td>99cad265a1768cc2dd013f0e740300ae</td>\n",
              "      <td>9eed45f71360b4b1e2590637467220e5</td>\n",
              "      <td>212a38db0ddcd009f1e164cc8483485c</td>\n",
              "      <td>0</td>\n",
              "      <td>0</td>\n",
              "    </tr>\n",
              "    <tr>\n",
              "      <th>60114</th>\n",
              "      <td>be961449e5b90c1cbd62211574d414a0</td>\n",
              "      <td>NONFOOD</td>\n",
              "      <td>ea5d2f1c4608232e07d3aa3d998e5135</td>\n",
              "      <td>99cad265a1768cc2dd013f0e740300ae</td>\n",
              "      <td>9eed45f71360b4b1e2590637467220e5</td>\n",
              "      <td>212a38db0ddcd009f1e164cc8483485c</td>\n",
              "      <td>0</td>\n",
              "      <td>0</td>\n",
              "    </tr>\n",
              "    <tr>\n",
              "      <th>77564</th>\n",
              "      <td>00f14fad2e251c8eb9f814bcb48c11b3</td>\n",
              "      <td>NONFOOD</td>\n",
              "      <td>ea5d2f1c4608232e07d3aa3d998e5135</td>\n",
              "      <td>99cad265a1768cc2dd013f0e740300ae</td>\n",
              "      <td>9eed45f71360b4b1e2590637467220e5</td>\n",
              "      <td>212a38db0ddcd009f1e164cc8483485c</td>\n",
              "      <td>0</td>\n",
              "      <td>0</td>\n",
              "    </tr>\n",
              "    <tr>\n",
              "      <th>83570</th>\n",
              "      <td>c1d88a8ab1c81a5fe6100b99e00aec07</td>\n",
              "      <td>NONFOOD</td>\n",
              "      <td>ea5d2f1c4608232e07d3aa3d998e5135</td>\n",
              "      <td>99cad265a1768cc2dd013f0e740300ae</td>\n",
              "      <td>9eed45f71360b4b1e2590637467220e5</td>\n",
              "      <td>212a38db0ddcd009f1e164cc8483485c</td>\n",
              "      <td>0</td>\n",
              "      <td>0</td>\n",
              "    </tr>\n",
              "    <tr>\n",
              "      <th>105052</th>\n",
              "      <td>e6660263d91d9ceafad76eec4fe37704</td>\n",
              "      <td>NONFOOD</td>\n",
              "      <td>ea5d2f1c4608232e07d3aa3d998e5135</td>\n",
              "      <td>99cad265a1768cc2dd013f0e740300ae</td>\n",
              "      <td>9eed45f71360b4b1e2590637467220e5</td>\n",
              "      <td>212a38db0ddcd009f1e164cc8483485c</td>\n",
              "      <td>0</td>\n",
              "      <td>0</td>\n",
              "    </tr>\n",
              "  </tbody>\n",
              "</table>\n",
              "</div>"
            ],
            "text/plain": [
              "                                material  ... is_alco\n",
              "0       35cbdf61de9e19c8b417327aaef14c88  ...       0\n",
              "6       f2b2348860378f8b62f8f873bd2ce37e  ...       0\n",
              "60114   be961449e5b90c1cbd62211574d414a0  ...       0\n",
              "77564   00f14fad2e251c8eb9f814bcb48c11b3  ...       0\n",
              "83570   c1d88a8ab1c81a5fe6100b99e00aec07  ...       0\n",
              "105052  e6660263d91d9ceafad76eec4fe37704  ...       0\n",
              "\n",
              "[6 rows x 8 columns]"
            ]
          },
          "metadata": {
            "tags": []
          },
          "execution_count": 102
        }
      ]
    },
    {
      "cell_type": "code",
      "metadata": {
        "id": "nOsa-hvNAAQy",
        "outputId": "d8b8d108-b7c0-4776-b3ef-7942a2d0c9a7",
        "colab": {
          "base_uri": "https://localhost:8080/",
          "height": 429
        }
      },
      "source": [
        "materials.hier_level_1.value_counts().plot.pie(figsize=(7, 7))"
      ],
      "execution_count": null,
      "outputs": [
        {
          "output_type": "execute_result",
          "data": {
            "text/plain": [
              "<matplotlib.axes._subplots.AxesSubplot at 0x7f3e57b95ba8>"
            ]
          },
          "metadata": {
            "tags": []
          },
          "execution_count": 65
        },
        {
          "output_type": "display_data",
          "data": {
            "image/png": "[encoded data removed]",
            "text/plain": [
              "<Figure size 504x504 with 1 Axes>"
            ]
          },
          "metadata": {
            "tags": []
          }
        }
      ]
    },
    {
      "cell_type": "code",
      "metadata": {
        "id": "2c58Fkz9F2iY",
        "outputId": "57b93214-2edc-4a57-eeae-f5306b2e0070",
        "colab": {
          "base_uri": "https://localhost:8080/",
          "height": 70
        }
      },
      "source": [
        "materials.hier_level_1.value_counts()"
      ],
      "execution_count": null,
      "outputs": [
        {
          "output_type": "execute_result",
          "data": {
            "text/plain": [
              "FOOD       57847\n",
              "NONFOOD    47762\n",
              "Name: hier_level_1, dtype: int64"
            ]
          },
          "metadata": {
            "tags": []
          },
          "execution_count": 45
        }
      ]
    },
    {
      "cell_type": "code",
      "metadata": {
        "id": "nGqsEFpHF9zs",
        "outputId": "855377ff-c459-4770-bb31-49a8750b8475",
        "colab": {
          "base_uri": "https://localhost:8080/",
          "height": 70
        }
      },
      "source": [
        "materials.is_private_label.value_counts()"
      ],
      "execution_count": null,
      "outputs": [
        {
          "output_type": "execute_result",
          "data": {
            "text/plain": [
              "0    89101\n",
              "1    16508\n",
              "Name: is_private_label, dtype: int64"
            ]
          },
          "metadata": {
            "tags": []
          },
          "execution_count": 46
        }
      ]
    },
    {
      "cell_type": "code",
      "metadata": {
        "id": "mpPqxsEHGCkU",
        "outputId": "61987ead-2412-4d71-dc68-b1dfca394b3f",
        "colab": {
          "base_uri": "https://localhost:8080/",
          "height": 70
        }
      },
      "source": [
        "materials.is_alco.value_counts()"
      ],
      "execution_count": null,
      "outputs": [
        {
          "output_type": "execute_result",
          "data": {
            "text/plain": [
              "0    100470\n",
              "1      5139\n",
              "Name: is_alco, dtype: int64"
            ]
          },
          "metadata": {
            "tags": []
          },
          "execution_count": 49
        }
      ]
    },
    {
      "cell_type": "code",
      "metadata": {
        "id": "cz9VQTTBAP5p",
        "outputId": "34b6cd5d-3514-46b6-ad55-2e4364aaef31",
        "colab": {
          "base_uri": "https://localhost:8080/",
          "height": 34
        }
      },
      "source": [
        "len(materials.hier_level_2.unique()), len(materials.hier_level_3.unique()), len(materials.hier_level_4.unique())"
      ],
      "execution_count": null,
      "outputs": [
        {
          "output_type": "execute_result",
          "data": {
            "text/plain": [
              "(60, 391, 2006)"
            ]
          },
          "metadata": {
            "tags": []
          },
          "execution_count": 48
        }
      ]
    },
    {
      "cell_type": "markdown",
      "metadata": {
        "id": "hxmom1LTJVpH"
      },
      "source": [
        "## Plants"
      ]
    },
    {
      "cell_type": "code",
      "metadata": {
        "id": "d6P4MlopsMvu",
        "outputId": "f70e1212-992c-4c71-8035-031c7c9993af",
        "colab": {
          "base_uri": "https://localhost:8080/",
          "height": 343
        }
      },
      "source": [
        "plants.head(10)"
      ],
      "execution_count": null,
      "outputs": [
        {
          "output_type": "execute_result",
          "data": {
            "text/html": [
              "<div>\n",
              "<style scoped>\n",
              "    .dataframe tbody tr th:only-of-type {\n",
              "        vertical-align: middle;\n",
              "    }\n",
              "\n",
              "    .dataframe tbody tr th {\n",
              "        vertical-align: top;\n",
              "    }\n",
              "\n",
              "    .dataframe thead th {\n",
              "        text-align: right;\n",
              "    }\n",
              "</style>\n",
              "<table border=\"1\" class=\"dataframe\">\n",
              "  <thead>\n",
              "    <tr style=\"text-align: right;\">\n",
              "      <th></th>\n",
              "      <th>plant</th>\n",
              "      <th>plant_type</th>\n",
              "      <th>city</th>\n",
              "    </tr>\n",
              "  </thead>\n",
              "  <tbody>\n",
              "    <tr>\n",
              "      <th>0</th>\n",
              "      <td>95b09698fda1f64af16708ffb859eab9</td>\n",
              "      <td>HM</td>\n",
              "      <td>St. Petersburg</td>\n",
              "    </tr>\n",
              "    <tr>\n",
              "      <th>1</th>\n",
              "      <td>926abae84a4bd33c834bc6b981b8cf30</td>\n",
              "      <td>HM</td>\n",
              "      <td>St. Petersburg</td>\n",
              "    </tr>\n",
              "    <tr>\n",
              "      <th>2</th>\n",
              "      <td>ae2bac2e4b4da805d01b2952d7e35ba4</td>\n",
              "      <td>HM</td>\n",
              "      <td>St. Petersburg</td>\n",
              "    </tr>\n",
              "    <tr>\n",
              "      <th>3</th>\n",
              "      <td>0e7e3cf0ded4d9db8b376b317c007f99</td>\n",
              "      <td>HM</td>\n",
              "      <td>St. Petersburg</td>\n",
              "    </tr>\n",
              "    <tr>\n",
              "      <th>4</th>\n",
              "      <td>540bd55a2cf295b8ea9cd78650e89d03</td>\n",
              "      <td>HM</td>\n",
              "      <td>St. Petersburg</td>\n",
              "    </tr>\n",
              "    <tr>\n",
              "      <th>5</th>\n",
              "      <td>147768d3955e38c4e662c0a95d807abc</td>\n",
              "      <td>HM</td>\n",
              "      <td>Other</td>\n",
              "    </tr>\n",
              "    <tr>\n",
              "      <th>6</th>\n",
              "      <td>2ebe25dd3a566f36f80d55440d3c3834</td>\n",
              "      <td>HM</td>\n",
              "      <td>Other</td>\n",
              "    </tr>\n",
              "    <tr>\n",
              "      <th>7</th>\n",
              "      <td>ba1d8b273d67c04097d64fad565a79d9</td>\n",
              "      <td>HM</td>\n",
              "      <td>Other</td>\n",
              "    </tr>\n",
              "    <tr>\n",
              "      <th>8</th>\n",
              "      <td>66ff67ba2a11f6975dd7293039ed593e</td>\n",
              "      <td>HM</td>\n",
              "      <td>Other</td>\n",
              "    </tr>\n",
              "    <tr>\n",
              "      <th>9</th>\n",
              "      <td>c0f82517af0829daac3a6cf82e9ecc1e</td>\n",
              "      <td>HM</td>\n",
              "      <td>Other</td>\n",
              "    </tr>\n",
              "  </tbody>\n",
              "</table>\n",
              "</div>"
            ],
            "text/plain": [
              "                              plant plant_type            city\n",
              "0  95b09698fda1f64af16708ffb859eab9         HM  St. Petersburg\n",
              "1  926abae84a4bd33c834bc6b981b8cf30         HM  St. Petersburg\n",
              "2  ae2bac2e4b4da805d01b2952d7e35ba4         HM  St. Petersburg\n",
              "3  0e7e3cf0ded4d9db8b376b317c007f99         HM  St. Petersburg\n",
              "4  540bd55a2cf295b8ea9cd78650e89d03         HM  St. Petersburg\n",
              "5  147768d3955e38c4e662c0a95d807abc         HM           Other\n",
              "6  2ebe25dd3a566f36f80d55440d3c3834         HM           Other\n",
              "7  ba1d8b273d67c04097d64fad565a79d9         HM           Other\n",
              "8  66ff67ba2a11f6975dd7293039ed593e         HM           Other\n",
              "9  c0f82517af0829daac3a6cf82e9ecc1e         HM           Other"
            ]
          },
          "metadata": {
            "tags": []
          },
          "execution_count": 12
        }
      ]
    },
    {
      "cell_type": "code",
      "metadata": {
        "id": "UGHOi8BqKIZm",
        "outputId": "89a24d3b-3bf4-46b2-b227-fecbe9c18819",
        "colab": {
          "base_uri": "https://localhost:8080/",
          "height": 461
        }
      },
      "source": [
        "plants.groupby(['plant_type','city']).count().unstack().plot(kind='bar', y='plant', stacked=True, figsize=(7, 7), rot=0)"
      ],
      "execution_count": null,
      "outputs": [
        {
          "output_type": "execute_result",
          "data": {
            "text/plain": [
              "<matplotlib.axes._subplots.AxesSubplot at 0x7f3e57a76160>"
            ]
          },
          "metadata": {
            "tags": []
          },
          "execution_count": 67
        },
        {
          "output_type": "display_data",
          "data": {
            "image/png": "[encoded data removed]",
            "text/plain": [
              "<Figure size 504x504 with 1 Axes>"
            ]
          },
          "metadata": {
            "tags": [],
            "needs_background": "light"
          }
        }
      ]
    }
  ]
}